{
  "nbformat": 4,
  "nbformat_minor": 0,
  "metadata": {
    "language_info": {
      "codemirror_mode": {
        "name": "ipython",
        "version": 3
      },
      "file_extension": ".py",
      "mimetype": "text/x-python",
      "name": "python",
      "nbconvert_exporter": "python",
      "pygments_lexer": "ipython3",
      "version": "3.7.6-final"
    },
    "orig_nbformat": 2,
    "kernelspec": {
      "name": "python3",
      "display_name": "Python 3",
      "language": "python"
    },
    "colab": {
      "name": "Preprocess_data.ipynb",
      "provenance": [],
      "collapsed_sections": [],
      "toc_visible": true,
      "include_colab_link": true
    },
    "accelerator": "GPU"
  },
  "cells": [
    {
      "cell_type": "markdown",
      "metadata": {
        "id": "view-in-github",
        "colab_type": "text"
      },
      "source": [
        "<a href=\"https://colab.research.google.com/github/Iterb/Human-interaction-recognition/blob/main/Preprocess_data.ipynb\" target=\"_parent\"><img src=\"https://colab.research.google.com/assets/colab-badge.svg\" alt=\"Open In Colab\"/></a>"
      ]
    },
    {
      "cell_type": "markdown",
      "metadata": {
        "id": "aL7C5bSF4fWN"
      },
      "source": [
        "# Environment setup"
      ]
    },
    {
      "cell_type": "markdown",
      "metadata": {
        "id": "hkh4uIdj52DD"
      },
      "source": [
        "## Install OpenPose"
      ]
    },
    {
      "cell_type": "code",
      "metadata": {
        "id": "ALApE_Qe4fWS",
        "colab": {
          "base_uri": "https://localhost:8080/"
        },
        "outputId": "bd4b880b-64f1-474b-d033-95844df03d53"
      },
      "source": [
        "import os\n",
        "from os.path import exists, join, basename, splitext\n",
        "#http://rose1.ntu.edu.sg/datasets/actionrecognition.asp\n",
        "git_repo_url = 'https://github.com/CMU-Perceptual-Computing-Lab/openpose.git'\n",
        "project_name = splitext(basename(git_repo_url))[0]\n",
        "if True:\n",
        "  # see: https://github.com/CMU-Perceptual-Computing-Lab/openpose/issues/949\n",
        "  # install new CMake becaue of CUDA10\n",
        "  !wget -q https://cmake.org/files/v3.13/cmake-3.13.0-Linux-x86_64.tar.gz\n",
        "  !tar xfz cmake-3.13.0-Linux-x86_64.tar.gz --strip-components=1 -C /usr/local\n",
        "  # clone openpose\n",
        "  !git clone -q --depth 1 $git_repo_url\n",
        "  !sed -i 's/execute_process(COMMAND git checkout master WORKING_DIRECTORY ${CMAKE_SOURCE_DIR}\\/3rdparty\\/caffe)/execute_process(COMMAND git checkout f019d0dfe86f49d1140961f8c7dec22130c83154 WORKING_DIRECTORY ${CMAKE_SOURCE_DIR}\\/3rdparty\\/caffe)/g' openpose/CMakeLists.txt\n",
        "  # install system dependencies\n",
        "  !apt-get -qq install -y libatlas-base-dev libprotobuf-dev libleveldb-dev libsnappy-dev libhdf5-serial-dev protobuf-compiler libgflags-dev libgoogle-glog-dev liblmdb-dev opencl-headers ocl-icd-opencl-dev libviennacl-dev\n",
        "  # install python dependencies\n",
        "  !pip install -q youtube-dl\n",
        "  # build openpose\n",
        "  !cd openpose && rm -rf build || true && mkdir build && cd build && cmake .. && make -j`nproc`\n",
        "  \n",
        "from IPython.display import YouTubeVideo"
      ],
      "execution_count": null,
      "outputs": [
        {
          "output_type": "stream",
          "text": [
            "^C\n",
            "^C\n",
            "fatal: destination path 'openpose' already exists and is not an empty directory.\n",
            "-- The C compiler identification is GNU 7.5.0\n",
            "-- The CXX compiler identification is GNU 7.5.0\n",
            "-- Check for working C compiler: /usr/bin/cc\n",
            "-- Check for working C compiler: /usr/bin/cc -- works\n",
            "-- Detecting C compiler ABI info\n",
            "-- Detecting C compiler ABI info - done\n",
            "-- Detecting C compile features\n",
            "-- Detecting C compile features - done\n",
            "-- Check for working CXX compiler: /usr/bin/c++\n",
            "-- Check for working CXX compiler: /usr/bin/c++ -- works\n",
            "-- Detecting CXX compiler ABI info\n",
            "-- Detecting CXX compiler ABI info - done\n",
            "-- Detecting CXX compile features\n",
            "^C\n"
          ],
          "name": "stdout"
        }
      ]
    },
    {
      "cell_type": "markdown",
      "metadata": {
        "id": "GhCh2Isl5RZ8"
      },
      "source": [
        "## Mount Google Drive"
      ]
    },
    {
      "cell_type": "code",
      "metadata": {
        "colab": {
          "base_uri": "https://localhost:8080/"
        },
        "id": "Fo_VTqj_5UlG",
        "outputId": "41c48d0f-1cfb-432e-a983-73def6e0a342"
      },
      "source": [
        "from google.colab import drive\n",
        "drive.mount('/content/drive')"
      ],
      "execution_count": null,
      "outputs": [
        {
          "output_type": "stream",
          "text": [
            "Mounted at /content/drive\n"
          ],
          "name": "stdout"
        }
      ]
    },
    {
      "cell_type": "markdown",
      "metadata": {
        "id": "o5C8uGsMCsOL"
      },
      "source": [
        "## Main imports"
      ]
    },
    {
      "cell_type": "code",
      "metadata": {
        "id": "fjte-sB4C4DH"
      },
      "source": [
        "import pandas as pd\n",
        "import numpy as np\n",
        "from statistics import mean\n",
        "import math\n",
        "import os\n",
        "import numpy as np\n",
        "import pandas as pd\n",
        "import matplotlib.pyplot as plt\n",
        "import time\n",
        "import re\n",
        "import json"
      ],
      "execution_count": null,
      "outputs": []
    },
    {
      "cell_type": "code",
      "metadata": {
        "id": "aJiRmfN-Rf_S"
      },
      "source": [
        "from sklearn.preprocessing import MinMaxScaler\n",
        "from sklearn.ensemble import VotingClassifier\n",
        "from sklearn.svm import SVC\n",
        "from sklearn.neighbors import KNeighborsClassifier\n",
        "from sklearn.naive_bayes import GaussianNB\n",
        "from sklearn.neural_network import MLPClassifier\n",
        "from sklearn.linear_model import SGDClassifier\n",
        "from sklearn.ensemble import RandomForestClassifier\n",
        "from sklearn.model_selection import train_test_split"
      ],
      "execution_count": null,
      "outputs": []
    },
    {
      "cell_type": "markdown",
      "metadata": {
        "id": "Enm_vbbHCLeW"
      },
      "source": [
        "# Joint features\n",
        "Load joint data extracted by OpenPose form NTU dataset \n",
        "\n",
        "Input data is in format \n",
        "(x,y,c) for each of 25 joints concatenated for 2 people. "
      ]
    },
    {
      "cell_type": "code",
      "metadata": {
        "colab": {
          "base_uri": "https://localhost:8080/"
        },
        "id": "SRL9gefYCUQA",
        "outputId": "21bdf7c9-39b9-4b83-b737-047f894192cd"
      },
      "source": [
        "full_data = pd.read_csv(r'./drive/MyDrive/OpenPose/full_data2.csv')\n",
        "\n",
        "x = full_data.drop([\"class\", \"batch\"],axis=1)\n",
        "y = full_data[\"class\"].values\n",
        "\n",
        "print('size of x = ',x.shape)\n",
        "print('size of y = ',y.shape)\n",
        "\n",
        "x_data_not_normalized = x.copy()\n",
        "y_data_not_normalized = y.copy()\n",
        "\n",
        "#removing c values\n",
        "avg  = x.drop(x.columns[2::3], axis=1)\n",
        "#spliting data\n",
        "x_per1 = avg.drop(avg.columns[50:], axis=1)\n",
        "x_per2 = avg.drop(avg.columns[:50], axis=1)\n",
        "x_coords_per1 = []\n",
        "for x in x_per1.to_numpy():\n",
        "  it = iter(x)\n",
        "  joint_coords = list(zip(it,it))\n",
        "  x_coords_per1.append(joint_coords)\n",
        "\n",
        "x_coords_per1 = np.array(x_coords_per1)\n",
        "\n",
        "x_coords_per2 = []\n",
        "for x in x_per2.to_numpy():\n",
        "  it = iter(x)\n",
        "  joint_coords = list(zip(it,it))\n",
        "  x_coords_per2.append(joint_coords)\n",
        "\n",
        "x_coords_per2 = np.array(x_coords_per2)\n",
        "\n"
      ],
      "execution_count": null,
      "outputs": [
        {
          "output_type": "stream",
          "text": [
            "size of x =  (6708, 150)\n",
            "size of y =  (6708,)\n"
          ],
          "name": "stdout"
        }
      ]
    },
    {
      "cell_type": "markdown",
      "metadata": {
        "id": "mepxkXJxlq-F"
      },
      "source": [
        "Creating new features - limbs length (normalized euclidean distances) and angles.  "
      ]
    },
    {
      "cell_type": "markdown",
      "metadata": {
        "id": "uYO5PHAsTIqy"
      },
      "source": [
        "         Orginal                            Limbs                          Angles\n",
        "\n",
        "![image.png](data:image/png;base64,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) ![image.png](data:image/png;base64,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) ![image.png](data:image/png;base64,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)\n"
      ]
    },
    {
      "cell_type": "code",
      "metadata": {
        "id": "JzwqVedXPOI5"
      },
      "source": [
        "limbs = [(1,2),(2,3),(3,4),(1,5),(5,6),(6,7),(1,0),(0,15),(15,17),(0,16),(16,18),\n",
        "           (8,9),(9,10),(10,11),(11,24),(11,23),(22,23),(8,12),(12,13),(13,14),\n",
        "           (14,21),(14,19),(19,20)]\n",
        "\n",
        "#direction - away from joint number 1 and then from down\n",
        "angles = [(8,1,2),(1,2,3),(2,3,4),(8,1,5),(1,5,6),(5,6,7),(2,1,0),(1,0,15),(0,15,17),\n",
        "          (1,0,16),(0,16,18),(1,8,9),(8,9,10),(9,10,11),(10,11,22),(10,11,24),(11,22,23),\n",
        "          (1,8,12),(8,12,13),(12,13,14),(13,14,19),(13,14,21),(14,19,20)]\n",
        "\n",
        "def calculate_angle(a, b, c):\n",
        "  ba = a - b\n",
        "  bc = c - b\n",
        "  cosine_angle = np.dot(ba, bc) / (np.linalg.norm(ba) * np.linalg.norm(bc))\n",
        "  return (np.degrees(np.arccos(cosine_angle)) / 180)\n",
        "\n",
        "def calculate_average_limb_lengths(x_coords):\n",
        "  x_avg_lengths =[[] for i in range(24)]\n",
        "  norms = []\n",
        "  x_avg_lengths[0].append(1)\n",
        "  for frame in x_coords:\n",
        "    if (np.any(frame[1] == 0)) or (np.any(frame[8] == 0)):\n",
        "      continue\n",
        "    norm = np.linalg.norm(frame[1] - frame[8])\n",
        "    norms.append(norm)\n",
        "    l0 = 1\n",
        "    for i, limb in enumerate(limbs):\n",
        "      if (np.all(frame[limb[0]] != 0)) and (np.all(frame[limb[1]] != 0)):\n",
        "        l = np.linalg.norm(frame[limb[0]] - frame[limb[1]]) / norm\n",
        "        x_avg_lengths[i+1].append(l)\n",
        "\n",
        "  limb_lengths_average = [sum(col)/len(col) for col in x_avg_lengths]\n",
        "  norm_average = sum(norms)/len(norms)\n",
        "  return limb_lengths_average, norm_average\n",
        "\n",
        "def calculate_average_angles(x_coords):\n",
        "  x_avg_angles =[[] for i in range(23)]\n",
        "  for frame in x_coords:\n",
        "    for i, angle in enumerate(angles):\n",
        "      if (np.all(frame[angle[0]] != 0) and \n",
        "         np.all(frame[angle[1]] != 0) and \n",
        "         np.all(frame[angle[2]] != 0)):\n",
        "        \n",
        "        a = calculate_angle(frame[angle[0]],frame[angle[1]],frame[angle[2]])\n",
        "        x_avg_angles[i].append(a)\n",
        "  angles_average = [sum(col)/len(col) for col in x_avg_angles]\n",
        "  return angles_average\n",
        "\n",
        "def calculate_limb_lengths(x_coords, average_limbs, average_norm):\n",
        "  x_lengths = []\n",
        "  for frame in x_coords:\n",
        "    x_person = []\n",
        "    if (np.any(frame[1] == 0)) or (np.any(frame[8] == 0)):\n",
        "      norm = average_norm\n",
        "    else:\n",
        "      norm = np.linalg.norm(frame[1] - frame[8])\n",
        "\n",
        "    x_person.append(1)\n",
        "    for i, limb in enumerate(limbs):\n",
        "      if (np.any(frame[limb[0]] == 0)) or (np.any(frame[limb[1]] == 0)):\n",
        "        l = average_limbs[i+1]\n",
        "        x_person.append(l)\n",
        "      else:\n",
        "        l = np.linalg.norm(frame[limb[0]] - frame[limb[1]]) / norm\n",
        "        x_person.append(l)\n",
        "\n",
        "    x_lengths.append(x_person)\n",
        "  return x_lengths\n",
        "\n",
        "def calculate_angles(x_coords, average_ang):\n",
        "  x_angles = []\n",
        "  for frame in x_coords:\n",
        "    x_person = []\n",
        "    for i, angle in enumerate(angles):\n",
        "      if (np.any(frame[angle[0]] == 0) or \n",
        "         np.any(frame[angle[1]] == 0) or \n",
        "         np.any(frame[angle[2]] == 0)):\n",
        "        a = average_ang[i]\n",
        "        x_person.append(a)\n",
        "      else:\n",
        "        a = calculate_angle(frame[angle[0]],frame[angle[1]],frame[angle[2]])\n",
        "        x_person.append(a)\n",
        "    x_angles.append(x_person)\n",
        "  return x_angles\n",
        "\n",
        "def calculate_distance(x_coords_1, x_coords_2, average_norm, distance_type = \"2P\"):\n",
        "  x_distance = []\n",
        "  for frame1, frame2 in zip(x_coords_1,x_coords_2):\n",
        "    if (np.any(frame1[1] == 0)) or (np.any(frame1[8] == 0)):\n",
        "        norm = average_norm\n",
        "    else:\n",
        "        norm = np.linalg.norm(frame1[1] - frame1[8])\n",
        "    if (distance_type == \"2P\"):\n",
        "      if (np.any(frame1[1] == 0)) or (np.any(frame2[1] == 0)):\n",
        "        d = np.linalg.norm(frame1[0] - frame2[0]) / norm\n",
        "        x_distance.append(d)\n",
        "      else:\n",
        "        d = np.linalg.norm(frame1[1] - frame2[1]) / norm\n",
        "        x_distance.append(d)\n",
        "    elif (distance_type == \"25P\"):\n",
        "      x_person = []\n",
        "      moving_avg_d = 1\n",
        "      for i in range(25):\n",
        "        if (np.any(frame1[i] == 0) or np.any(frame2[i] == 0)):\n",
        "          moving_avg_d = (sum(x_person) + moving_avg_d) / (i + 1) \n",
        "          d = moving_avg_d\n",
        "        else: \n",
        "          d = np.linalg.norm(frame1[i] - frame2[i]) / norm\n",
        "        x_person.append(d)\n",
        "      x_distance.append(x_person)\n",
        "  return x_distance\n"
      ],
      "execution_count": null,
      "outputs": []
    },
    {
      "cell_type": "code",
      "metadata": {
        "id": "jd1ydq5zF_UG"
      },
      "source": [
        "def normalize(x, av_angles, av_norm, av_limbs, feature_type = \"P\", distance = \"2P\"):\n",
        "  #maybe add minmax scaling\n",
        "  #removing c values\n",
        "  x  = x.drop(x.columns[2::3], axis=1)\n",
        "  #spliting data\n",
        "  x_per1 = x.drop(x.columns[50:], axis=1)\n",
        "  x_per2 = x.drop(x.columns[:50], axis=1)\n",
        "  x_coords_per1 = []\n",
        "  for x in x_per1.to_numpy():\n",
        "    it = iter(x)\n",
        "    joint_coords = list(zip(it,it))\n",
        "    x_coords_per1.append(joint_coords)\n",
        "\n",
        "  x_coords_per1 = np.array(x_coords_per1)\n",
        "\n",
        "  x_coords_per2 = []\n",
        "  for x in x_per2.to_numpy():\n",
        "    it = iter(x)\n",
        "    joint_coords = list(zip(it,it))\n",
        "    x_coords_per2.append(joint_coords)\n",
        "\n",
        "  x_coords_per2 = np.array(x_coords_per2)\n",
        "\n",
        "  #Calculating new features\n",
        "  x_angles_per1 = calculate_angles(x_coords_per1, av_angles)\n",
        "  x_angles_per2 = calculate_angles(x_coords_per2, av_angles)\n",
        "  x_limbs_per1 = calculate_limb_lengths(x_coords_per1,av_limbs, av_norm)\n",
        "  x_limbs_per2 = calculate_limb_lengths(x_coords_per2,av_limbs, av_norm)\n",
        "  x_distances = calculate_distance(x_coords_per1, x_coords_per2, av_norm, distance_type = distance)\n",
        "\n",
        "  #Creating new dataframes\n",
        "  x_angles_per1_df = pd.DataFrame(x_angles_per1)\n",
        "  x_angles_per2_df = pd.DataFrame(x_angles_per2)\n",
        "  x_limbs_per1_df = pd.DataFrame(x_limbs_per1)\n",
        "  x_limbs_per2_df = pd.DataFrame(x_limbs_per2)\n",
        "  x_distances_df = pd.DataFrame(x_distances)\n",
        "  x_features_typeP = pd.concat([x_angles_per1_df, x_angles_per2_df, x_limbs_per1_df, x_limbs_per2_df, x_distances_df], axis=1)\n",
        "  x_features_typeP.columns = range(0,x_features_typeP.shape[1])\n",
        "\n",
        "  x_features_typeV_per1 = pd.concat([x_angles_per1_df, x_limbs_per1_df], axis=1)\n",
        "  x_features_typeV_per1.columns = range(0,x_features_typeV_per1.shape[1])\n",
        "  x_features_typeV_per2 = pd.concat([x_angles_per2_df, x_limbs_per2_df], axis=1)\n",
        "  x_features_typeV_per2.columns = range(0,x_features_typeV_per2.shape[1])\n",
        "  x_distances_df.columns = range(0,x_distances_df.shape[1])\n",
        "\n",
        "  if feature_type == 'P':\n",
        "    return x_features_typeP\n",
        "  else:\n",
        "    return x_features_typeV_per1, x_features_typeV_per2, x_distances_df"
      ],
      "execution_count": null,
      "outputs": []
    },
    {
      "cell_type": "markdown",
      "metadata": {
        "id": "B2H4g6Wul9xJ"
      },
      "source": [
        "Calculating average limbs and angles. These are used to fill missing values."
      ]
    },
    {
      "cell_type": "code",
      "metadata": {
        "id": "QdUgQh7VUc9w"
      },
      "source": [
        "average_limbs, average_norm = calculate_average_limb_lengths(x_coords_per1)\n",
        "average_angles = calculate_average_angles(x_coords_per1)"
      ],
      "execution_count": null,
      "outputs": []
    },
    {
      "cell_type": "markdown",
      "metadata": {
        "id": "6vRJoQ6UCzc0"
      },
      "source": [
        "# Testing simple classifiers on yt videos"
      ]
    },
    {
      "cell_type": "code",
      "metadata": {
        "id": "GQHqvCLTEgIw",
        "colab": {
          "base_uri": "https://localhost:8080/"
        },
        "outputId": "3705ab31-888a-41db-ef26-c9703a388913"
      },
      "source": [
        "from IPython.display import YouTubeVideo\n",
        "!pip install -q youtube-dl\n",
        "\n",
        "def show_local_mp4_video(file_name, width=640, height=480):\n",
        "  import io\n",
        "  import base64\n",
        "  from IPython.display import HTML\n",
        "  video_encoded = base64.b64encode(io.open(file_name, 'rb').read())\n",
        "  return HTML(data='''<video width=\"{0}\" height=\"{1}\" alt=\"test\" controls>\n",
        "                        <source src=\"data:video/mp4;base64,{2}\" type=\"video/mp4\" />\n",
        "                      </video>'''.format(width, height, video_encoded.decode('ascii')))\n",
        "\n",
        "posses_dict= {1:\"close up\", 2:\"get away from each other\", 3:\"kick\",4:\"push\",\n",
        "             5:\"shake hands\",6:\"hug\",7:\"give a notebook\",8:\"punch\"}"
      ],
      "execution_count": null,
      "outputs": [
        {
          "output_type": "stream",
          "text": [
            "\u001b[?25l\r\u001b[K     |▏                               | 10kB 24.0MB/s eta 0:00:01\r\u001b[K     |▍                               | 20kB 32.1MB/s eta 0:00:01\r\u001b[K     |▌                               | 30kB 36.0MB/s eta 0:00:01\r\u001b[K     |▊                               | 40kB 38.0MB/s eta 0:00:01\r\u001b[K     |▉                               | 51kB 35.1MB/s eta 0:00:01\r\u001b[K     |█                               | 61kB 37.5MB/s eta 0:00:01\r\u001b[K     |█▏                              | 71kB 26.9MB/s eta 0:00:01\r\u001b[K     |█▍                              | 81kB 27.8MB/s eta 0:00:01\r\u001b[K     |█▋                              | 92kB 26.5MB/s eta 0:00:01\r\u001b[K     |█▊                              | 102kB 23.5MB/s eta 0:00:01\r\u001b[K     |██                              | 112kB 23.5MB/s eta 0:00:01\r\u001b[K     |██                              | 122kB 23.5MB/s eta 0:00:01\r\u001b[K     |██▎                             | 133kB 23.5MB/s eta 0:00:01\r\u001b[K     |██▍                             | 143kB 23.5MB/s eta 0:00:01\r\u001b[K     |██▋                             | 153kB 23.5MB/s eta 0:00:01\r\u001b[K     |██▊                             | 163kB 23.5MB/s eta 0:00:01\r\u001b[K     |███                             | 174kB 23.5MB/s eta 0:00:01\r\u001b[K     |███▏                            | 184kB 23.5MB/s eta 0:00:01\r\u001b[K     |███▎                            | 194kB 23.5MB/s eta 0:00:01\r\u001b[K     |███▌                            | 204kB 23.5MB/s eta 0:00:01\r\u001b[K     |███▋                            | 215kB 23.5MB/s eta 0:00:01\r\u001b[K     |███▉                            | 225kB 23.5MB/s eta 0:00:01\r\u001b[K     |████                            | 235kB 23.5MB/s eta 0:00:01\r\u001b[K     |████▏                           | 245kB 23.5MB/s eta 0:00:01\r\u001b[K     |████▍                           | 256kB 23.5MB/s eta 0:00:01\r\u001b[K     |████▌                           | 266kB 23.5MB/s eta 0:00:01\r\u001b[K     |████▊                           | 276kB 23.5MB/s eta 0:00:01\r\u001b[K     |████▉                           | 286kB 23.5MB/s eta 0:00:01\r\u001b[K     |█████                           | 296kB 23.5MB/s eta 0:00:01\r\u001b[K     |█████▏                          | 307kB 23.5MB/s eta 0:00:01\r\u001b[K     |█████▍                          | 317kB 23.5MB/s eta 0:00:01\r\u001b[K     |█████▌                          | 327kB 23.5MB/s eta 0:00:01\r\u001b[K     |█████▊                          | 337kB 23.5MB/s eta 0:00:01\r\u001b[K     |██████                          | 348kB 23.5MB/s eta 0:00:01\r\u001b[K     |██████                          | 358kB 23.5MB/s eta 0:00:01\r\u001b[K     |██████▎                         | 368kB 23.5MB/s eta 0:00:01\r\u001b[K     |██████▍                         | 378kB 23.5MB/s eta 0:00:01\r\u001b[K     |██████▋                         | 389kB 23.5MB/s eta 0:00:01\r\u001b[K     |██████▊                         | 399kB 23.5MB/s eta 0:00:01\r\u001b[K     |███████                         | 409kB 23.5MB/s eta 0:00:01\r\u001b[K     |███████▏                        | 419kB 23.5MB/s eta 0:00:01\r\u001b[K     |███████▎                        | 430kB 23.5MB/s eta 0:00:01\r\u001b[K     |███████▌                        | 440kB 23.5MB/s eta 0:00:01\r\u001b[K     |███████▋                        | 450kB 23.5MB/s eta 0:00:01\r\u001b[K     |███████▉                        | 460kB 23.5MB/s eta 0:00:01\r\u001b[K     |████████                        | 471kB 23.5MB/s eta 0:00:01\r\u001b[K     |████████▏                       | 481kB 23.5MB/s eta 0:00:01\r\u001b[K     |████████▎                       | 491kB 23.5MB/s eta 0:00:01\r\u001b[K     |████████▌                       | 501kB 23.5MB/s eta 0:00:01\r\u001b[K     |████████▊                       | 512kB 23.5MB/s eta 0:00:01\r\u001b[K     |████████▉                       | 522kB 23.5MB/s eta 0:00:01\r\u001b[K     |█████████                       | 532kB 23.5MB/s eta 0:00:01\r\u001b[K     |█████████▏                      | 542kB 23.5MB/s eta 0:00:01\r\u001b[K     |█████████▍                      | 552kB 23.5MB/s eta 0:00:01\r\u001b[K     |█████████▌                      | 563kB 23.5MB/s eta 0:00:01\r\u001b[K     |█████████▊                      | 573kB 23.5MB/s eta 0:00:01\r\u001b[K     |█████████▉                      | 583kB 23.5MB/s eta 0:00:01\r\u001b[K     |██████████                      | 593kB 23.5MB/s eta 0:00:01\r\u001b[K     |██████████▎                     | 604kB 23.5MB/s eta 0:00:01\r\u001b[K     |██████████▍                     | 614kB 23.5MB/s eta 0:00:01\r\u001b[K     |██████████▋                     | 624kB 23.5MB/s eta 0:00:01\r\u001b[K     |██████████▊                     | 634kB 23.5MB/s eta 0:00:01\r\u001b[K     |███████████                     | 645kB 23.5MB/s eta 0:00:01\r\u001b[K     |███████████                     | 655kB 23.5MB/s eta 0:00:01\r\u001b[K     |███████████▎                    | 665kB 23.5MB/s eta 0:00:01\r\u001b[K     |███████████▌                    | 675kB 23.5MB/s eta 0:00:01\r\u001b[K     |███████████▋                    | 686kB 23.5MB/s eta 0:00:01\r\u001b[K     |███████████▉                    | 696kB 23.5MB/s eta 0:00:01\r\u001b[K     |████████████                    | 706kB 23.5MB/s eta 0:00:01\r\u001b[K     |████████████▏                   | 716kB 23.5MB/s eta 0:00:01\r\u001b[K     |████████████▎                   | 727kB 23.5MB/s eta 0:00:01\r\u001b[K     |████████████▌                   | 737kB 23.5MB/s eta 0:00:01\r\u001b[K     |████████████▋                   | 747kB 23.5MB/s eta 0:00:01\r\u001b[K     |████████████▉                   | 757kB 23.5MB/s eta 0:00:01\r\u001b[K     |█████████████                   | 768kB 23.5MB/s eta 0:00:01\r\u001b[K     |█████████████▏                  | 778kB 23.5MB/s eta 0:00:01\r\u001b[K     |█████████████▍                  | 788kB 23.5MB/s eta 0:00:01\r\u001b[K     |█████████████▌                  | 798kB 23.5MB/s eta 0:00:01\r\u001b[K     |█████████████▊                  | 808kB 23.5MB/s eta 0:00:01\r\u001b[K     |█████████████▉                  | 819kB 23.5MB/s eta 0:00:01\r\u001b[K     |██████████████                  | 829kB 23.5MB/s eta 0:00:01\r\u001b[K     |██████████████▎                 | 839kB 23.5MB/s eta 0:00:01\r\u001b[K     |██████████████▍                 | 849kB 23.5MB/s eta 0:00:01\r\u001b[K     |██████████████▋                 | 860kB 23.5MB/s eta 0:00:01\r\u001b[K     |██████████████▊                 | 870kB 23.5MB/s eta 0:00:01\r\u001b[K     |███████████████                 | 880kB 23.5MB/s eta 0:00:01\r\u001b[K     |███████████████                 | 890kB 23.5MB/s eta 0:00:01\r\u001b[K     |███████████████▎                | 901kB 23.5MB/s eta 0:00:01\r\u001b[K     |███████████████▍                | 911kB 23.5MB/s eta 0:00:01\r\u001b[K     |███████████████▋                | 921kB 23.5MB/s eta 0:00:01\r\u001b[K     |███████████████▉                | 931kB 23.5MB/s eta 0:00:01\r\u001b[K     |████████████████                | 942kB 23.5MB/s eta 0:00:01\r\u001b[K     |████████████████▏               | 952kB 23.5MB/s eta 0:00:01\r\u001b[K     |████████████████▎               | 962kB 23.5MB/s eta 0:00:01\r\u001b[K     |████████████████▌               | 972kB 23.5MB/s eta 0:00:01\r\u001b[K     |████████████████▋               | 983kB 23.5MB/s eta 0:00:01\r\u001b[K     |████████████████▉               | 993kB 23.5MB/s eta 0:00:01\r\u001b[K     |█████████████████               | 1.0MB 23.5MB/s eta 0:00:01\r\u001b[K     |█████████████████▏              | 1.0MB 23.5MB/s eta 0:00:01\r\u001b[K     |█████████████████▍              | 1.0MB 23.5MB/s eta 0:00:01\r\u001b[K     |█████████████████▌              | 1.0MB 23.5MB/s eta 0:00:01\r\u001b[K     |█████████████████▊              | 1.0MB 23.5MB/s eta 0:00:01\r\u001b[K     |█████████████████▉              | 1.1MB 23.5MB/s eta 0:00:01\r\u001b[K     |██████████████████              | 1.1MB 23.5MB/s eta 0:00:01\r\u001b[K     |██████████████████▏             | 1.1MB 23.5MB/s eta 0:00:01\r\u001b[K     |██████████████████▍             | 1.1MB 23.5MB/s eta 0:00:01\r\u001b[K     |██████████████████▋             | 1.1MB 23.5MB/s eta 0:00:01\r\u001b[K     |██████████████████▊             | 1.1MB 23.5MB/s eta 0:00:01\r\u001b[K     |███████████████████             | 1.1MB 23.5MB/s eta 0:00:01\r\u001b[K     |███████████████████             | 1.1MB 23.5MB/s eta 0:00:01\r\u001b[K     |███████████████████▎            | 1.1MB 23.5MB/s eta 0:00:01\r\u001b[K     |███████████████████▍            | 1.1MB 23.5MB/s eta 0:00:01\r\u001b[K     |███████████████████▋            | 1.2MB 23.5MB/s eta 0:00:01\r\u001b[K     |███████████████████▊            | 1.2MB 23.5MB/s eta 0:00:01\r\u001b[K     |████████████████████            | 1.2MB 23.5MB/s eta 0:00:01\r\u001b[K     |████████████████████▏           | 1.2MB 23.5MB/s eta 0:00:01\r\u001b[K     |████████████████████▎           | 1.2MB 23.5MB/s eta 0:00:01\r\u001b[K     |████████████████████▌           | 1.2MB 23.5MB/s eta 0:00:01\r\u001b[K     |████████████████████▋           | 1.2MB 23.5MB/s eta 0:00:01\r\u001b[K     |████████████████████▉           | 1.2MB 23.5MB/s eta 0:00:01\r\u001b[K     |█████████████████████           | 1.2MB 23.5MB/s eta 0:00:01\r\u001b[K     |█████████████████████▏          | 1.2MB 23.5MB/s eta 0:00:01\r\u001b[K     |█████████████████████▍          | 1.3MB 23.5MB/s eta 0:00:01\r\u001b[K     |█████████████████████▌          | 1.3MB 23.5MB/s eta 0:00:01\r\u001b[K     |█████████████████████▊          | 1.3MB 23.5MB/s eta 0:00:01\r\u001b[K     |█████████████████████▉          | 1.3MB 23.5MB/s eta 0:00:01\r\u001b[K     |██████████████████████          | 1.3MB 23.5MB/s eta 0:00:01\r\u001b[K     |██████████████████████▏         | 1.3MB 23.5MB/s eta 0:00:01\r\u001b[K     |██████████████████████▍         | 1.3MB 23.5MB/s eta 0:00:01\r\u001b[K     |██████████████████████▌         | 1.3MB 23.5MB/s eta 0:00:01\r\u001b[K     |██████████████████████▊         | 1.3MB 23.5MB/s eta 0:00:01\r\u001b[K     |███████████████████████         | 1.4MB 23.5MB/s eta 0:00:01\r\u001b[K     |███████████████████████         | 1.4MB 23.5MB/s eta 0:00:01\r\u001b[K     |███████████████████████▎        | 1.4MB 23.5MB/s eta 0:00:01\r\u001b[K     |███████████████████████▍        | 1.4MB 23.5MB/s eta 0:00:01\r\u001b[K     |███████████████████████▋        | 1.4MB 23.5MB/s eta 0:00:01\r\u001b[K     |███████████████████████▊        | 1.4MB 23.5MB/s eta 0:00:01\r\u001b[K     |████████████████████████        | 1.4MB 23.5MB/s eta 0:00:01\r\u001b[K     |████████████████████████▏       | 1.4MB 23.5MB/s eta 0:00:01\r\u001b[K     |████████████████████████▎       | 1.4MB 23.5MB/s eta 0:00:01\r\u001b[K     |████████████████████████▌       | 1.4MB 23.5MB/s eta 0:00:01\r\u001b[K     |████████████████████████▋       | 1.5MB 23.5MB/s eta 0:00:01\r\u001b[K     |████████████████████████▉       | 1.5MB 23.5MB/s eta 0:00:01\r\u001b[K     |█████████████████████████       | 1.5MB 23.5MB/s eta 0:00:01\r\u001b[K     |█████████████████████████▏      | 1.5MB 23.5MB/s eta 0:00:01\r\u001b[K     |█████████████████████████▎      | 1.5MB 23.5MB/s eta 0:00:01\r\u001b[K     |█████████████████████████▌      | 1.5MB 23.5MB/s eta 0:00:01\r\u001b[K     |█████████████████████████▊      | 1.5MB 23.5MB/s eta 0:00:01\r\u001b[K     |█████████████████████████▉      | 1.5MB 23.5MB/s eta 0:00:01\r\u001b[K     |██████████████████████████      | 1.5MB 23.5MB/s eta 0:00:01\r\u001b[K     |██████████████████████████▏     | 1.5MB 23.5MB/s eta 0:00:01\r\u001b[K     |██████████████████████████▍     | 1.6MB 23.5MB/s eta 0:00:01\r\u001b[K     |██████████████████████████▌     | 1.6MB 23.5MB/s eta 0:00:01\r\u001b[K     |██████████████████████████▊     | 1.6MB 23.5MB/s eta 0:00:01\r\u001b[K     |███████████████████████████     | 1.6MB 23.5MB/s eta 0:00:01\r\u001b[K     |███████████████████████████     | 1.6MB 23.5MB/s eta 0:00:01\r\u001b[K     |███████████████████████████▎    | 1.6MB 23.5MB/s eta 0:00:01\r\u001b[K     |███████████████████████████▍    | 1.6MB 23.5MB/s eta 0:00:01\r\u001b[K     |███████████████████████████▋    | 1.6MB 23.5MB/s eta 0:00:01\r\u001b[K     |███████████████████████████▊    | 1.6MB 23.5MB/s eta 0:00:01\r\u001b[K     |████████████████████████████    | 1.6MB 23.5MB/s eta 0:00:01\r\u001b[K     |████████████████████████████    | 1.7MB 23.5MB/s eta 0:00:01\r\u001b[K     |████████████████████████████▎   | 1.7MB 23.5MB/s eta 0:00:01\r\u001b[K     |████████████████████████████▌   | 1.7MB 23.5MB/s eta 0:00:01\r\u001b[K     |████████████████████████████▋   | 1.7MB 23.5MB/s eta 0:00:01\r\u001b[K     |████████████████████████████▉   | 1.7MB 23.5MB/s eta 0:00:01\r\u001b[K     |█████████████████████████████   | 1.7MB 23.5MB/s eta 0:00:01\r\u001b[K     |█████████████████████████████▏  | 1.7MB 23.5MB/s eta 0:00:01\r\u001b[K     |█████████████████████████████▎  | 1.7MB 23.5MB/s eta 0:00:01\r\u001b[K     |█████████████████████████████▌  | 1.7MB 23.5MB/s eta 0:00:01\r\u001b[K     |█████████████████████████████▋  | 1.8MB 23.5MB/s eta 0:00:01\r\u001b[K     |█████████████████████████████▉  | 1.8MB 23.5MB/s eta 0:00:01\r\u001b[K     |██████████████████████████████  | 1.8MB 23.5MB/s eta 0:00:01\r\u001b[K     |██████████████████████████████▏ | 1.8MB 23.5MB/s eta 0:00:01\r\u001b[K     |██████████████████████████████▍ | 1.8MB 23.5MB/s eta 0:00:01\r\u001b[K     |██████████████████████████████▌ | 1.8MB 23.5MB/s eta 0:00:01\r\u001b[K     |██████████████████████████████▊ | 1.8MB 23.5MB/s eta 0:00:01\r\u001b[K     |██████████████████████████████▉ | 1.8MB 23.5MB/s eta 0:00:01\r\u001b[K     |███████████████████████████████ | 1.8MB 23.5MB/s eta 0:00:01\r\u001b[K     |███████████████████████████████▎| 1.8MB 23.5MB/s eta 0:00:01\r\u001b[K     |███████████████████████████████▍| 1.9MB 23.5MB/s eta 0:00:01\r\u001b[K     |███████████████████████████████▋| 1.9MB 23.5MB/s eta 0:00:01\r\u001b[K     |███████████████████████████████▊| 1.9MB 23.5MB/s eta 0:00:01\r\u001b[K     |████████████████████████████████| 1.9MB 23.5MB/s eta 0:00:01\r\u001b[K     |████████████████████████████████| 1.9MB 23.5MB/s \n",
            "\u001b[31mERROR: Operation cancelled by user\u001b[0m\n",
            "\u001b[?25h"
          ],
          "name": "stdout"
        }
      ]
    },
    {
      "cell_type": "code",
      "metadata": {
        "id": "btS1jerwFWXK",
        "colab": {
          "base_uri": "https://localhost:8080/",
          "height": 321
        },
        "outputId": "435840c0-2ee1-41b7-bac1-84aa0fa37c9d"
      },
      "source": [
        "YOUTUBE_ID = 'WPVuC6ugmAw'\n",
        "YouTubeVideo(YOUTUBE_ID)"
      ],
      "execution_count": null,
      "outputs": [
        {
          "output_type": "execute_result",
          "data": {
            "text/html": [
              "\n",
              "        <iframe\n",
              "            width=\"400\"\n",
              "            height=\"300\"\n",
              "            src=\"https://www.youtube.com/embed/WPVuC6ugmAw\"\n",
              "            frameborder=\"0\"\n",
              "            allowfullscreen\n",
              "        ></iframe>\n",
              "        "
            ],
            "text/plain": [
              "<IPython.lib.display.YouTubeVideo at 0x7fe9aee1c810>"
            ],
            "image/jpeg": "[encoded data removed]"
          },
          "metadata": {
            "tags": []
          },
          "execution_count": 13
        }
      ]
    },
    {
      "cell_type": "code",
      "metadata": {
        "id": "nW9X7sONsFu5"
      },
      "source": [
        "!rm -rf youtube.mp4\n",
        "# download the youtube with the given ID\n",
        "!youtube-dl -f 'bestvideo[ext=mp4]' --output \"youtube.%(ext)s\" https://www.youtube.com/watch?v=$YOUTUBE_ID\n",
        "# cut the video\n",
        "!rm video.mp4\n",
        "!ffmpeg -y -loglevel info -i youtube.mp4 -ss 00:0:14.0 -t 5 video.mp4\n",
        "#resize to 640x480\n",
        "!rm resized.mp4\n",
        "!ffmpeg -i video.mp4 -s 640x480 -c:a copy resized.mp4\n",
        "show_local_mp4_video(\"resized.mp4\", width=640, height=480)"
      ],
      "execution_count": null,
      "outputs": []
    },
    {
      "cell_type": "code",
      "metadata": {
        "id": "rp4bo1BKDIsT"
      },
      "source": [
        "#Using openpose\n",
        "!rm -r /content/drive/My\\ Drive/OpenPose/output \n",
        "!mkdir /content/drive/My\\ Drive/OpenPose/output\n",
        "!cd openpose && ./build/examples/openpose/openpose.bin --video ../resized.mp4 --write_json /content/drive/My\\ Drive/OpenPose/output --display 0 --write_video /content/drive/My\\ Drive/OpenPose/output/test.avi\n",
        "#convert to mp4\n",
        "!ffmpeg -y -loglevel info -i /content/drive/My\\ Drive/OpenPose/output/test.avi /content/drive/My\\ Drive/OpenPose/output/test.mp4\n",
        "show_local_mp4_video(\"/content/drive/MyDrive/OpenPose/output/test.mp4\", width=640, height=480)"
      ],
      "execution_count": null,
      "outputs": []
    },
    {
      "cell_type": "code",
      "metadata": {
        "id": "orE-eMCbDc-r"
      },
      "source": [
        "#load json\n",
        "frame_data = pd.DataFrame()\n",
        "pattern = re.compile(\"resized_.*_keypoints\")\n",
        "for dirpath, dirnames, filenames in os.walk(\"./drive/MyDrive/OpenPose/output\", topdown=False):\n",
        "  for file in sorted(filenames):\n",
        "      if pattern.match(file):\n",
        "          file_path = dirpath +'/'+ file\n",
        "          with open(file_path) as f:\n",
        "            loaded_json_dict = json.load(f)\n",
        "          try:\n",
        "            data = loaded_json_dict['people'][0]['pose_keypoints_2d'] + loaded_json_dict['people'][1]['pose_keypoints_2d']\n",
        "            df = pd.DataFrame.transpose(pd.DataFrame.from_dict(data))\n",
        "            frame_data = pd.concat([frame_data,df],ignore_index=True)\n",
        "          except:\n",
        "            data = loaded_json_dict['people'][0]['pose_keypoints_2d'] + 75*[0]\n",
        "            df = pd.DataFrame.transpose(pd.DataFrame.from_dict(data))\n",
        "            frame_data = pd.concat([frame_data,df],ignore_index=True)\n",
        "\n"
      ],
      "execution_count": null,
      "outputs": []
    },
    {
      "cell_type": "markdown",
      "metadata": {
        "id": "KfYwotF5H0Kh"
      },
      "source": [
        "## Load data"
      ]
    },
    {
      "cell_type": "code",
      "metadata": {
        "id": "aUtSqKa_H4mG"
      },
      "source": [
        "\n",
        "full_data = pd.read_csv(r'./drive/MyDrive/OpenPose/full_data2.csv')\n",
        "\n",
        "x = full_data.drop([\"class\", \"batch\"],axis=1)\n",
        "y = full_data[\"class\"].values\n",
        "\n",
        "x_features_typeP = normalize(full_data, average_angles, average_norm, average_limbs, distance= \"25P\")\n",
        "\n",
        "y = full_data[\"class\"].values\n",
        "x_train, x_test, y_train, y_test = train_test_split(x_features_typeP,y,test_size=0.25,shuffle=True)\n",
        "normalized_data = normalize(frame_data, average_angles, average_norm, average_limbs, distance= \"25P\")"
      ],
      "execution_count": null,
      "outputs": []
    },
    {
      "cell_type": "code",
      "metadata": {
        "id": "M6Elt33GDofh"
      },
      "source": [
        "\n",
        "accuracies = {}\n",
        "\n",
        "\n",
        "class_val = np.full((len(frame_data)), 6)\n",
        "knn_clf = KNeighborsClassifier(n_neighbors=3)\n",
        "print('......')\n",
        "svm_clf = SVC(random_state=1)\n",
        "nb_clf = GaussianNB()\n",
        "#nn_clf = MLPClassifier(solver='lbfgs',max_iter=20000)\n",
        "sgd_clf = SGDClassifier()\n",
        "rf_clf = RandomForestClassifier(n_estimators=100,random_state=1)\n",
        "\n",
        "voting_clf = VotingClassifier(\n",
        "        estimators=[('knn',knn_clf),('svm',svm_clf),('nb',nb_clf),\n",
        "                    ('sgd',sgd_clf),('rf',rf_clf)], voting='hard')\n",
        "\n",
        "from sklearn.metrics import accuracy_score\n",
        "accuracies = {}\n",
        "for clf in (knn_clf, svm_clf, nb_clf, sgd_clf, rf_clf, voting_clf):\n",
        "    clf.fit(x_train, y_train)\n",
        "    y_pred = clf.predict(normalized_data)\n",
        "    p1 = np.count_nonzero(y_pred == 1)/ len(y_pred)\n",
        "    p2 = np.count_nonzero(y_pred == 2)/ len(y_pred)\n",
        "    p3 = np.count_nonzero(y_pred == 3)/ len(y_pred)\n",
        "    p4 = np.count_nonzero(y_pred == 4)/ len(y_pred)\n",
        "    p5 = np.count_nonzero(y_pred == 5)/ len(y_pred)\n",
        "    p6 = np.count_nonzero(y_pred == 6)/ len(y_pred)\n",
        "    p7 = np.count_nonzero(y_pred == 7)/ len(y_pred)\n",
        "    p8 = np.count_nonzero(y_pred == 8)/ len(y_pred)\n",
        "    preds = {p1:\"close up\", p2:\"get away from each other\", p3:\"kick\",p4:\"push\",\n",
        "             p5:\"shake hands\",p6:\"hug\",p7:\"give a notebook\",p8:\"punch\"}\n",
        "    print (preds)\n",
        "    print(clf.__class__.__name__,accuracy_score(class_val, y_pred))\n",
        "    accuracies[clf.__class__.__name__] = accuracy_score(class_val,y_pred)\n",
        "\n",
        "print (accuracies)\n",
        "y_pred = rf_clf.predict(normalized_data)"
      ],
      "execution_count": null,
      "outputs": []
    },
    {
      "cell_type": "code",
      "metadata": {
        "id": "3CcF-3G3FZft"
      },
      "source": [
        "import cv2\n",
        "from google.colab.patches import cv2_imshow\n",
        "# Create a VideoCapture object and read from input file\n",
        "# If the input is the camera, pass 0 instead of the video file name\n",
        "cap = cv2.VideoCapture('./drive/MyDrive/OpenPose/output/test.mp4')\n",
        "\n",
        "# Check if camera opened successfully\n",
        "if (cap.isOpened()== False): \n",
        "  print(\"Error opening video stream or file\")\n",
        "\n",
        "# Default resolutions of the frame are obtained.The default resolutions are system dependent.\n",
        "# We convert the resolutions from float to integer.\n",
        "frame_width = int(cap.get(3))\n",
        "frame_height = int(cap.get(4))\n",
        "\n",
        "# Define the codec and create VideoWriter object.The output is stored in 'outpy.avi' file.\n",
        "out = cv2.VideoWriter('outpy.avi',cv2.VideoWriter_fourcc('M','J','P','G'), 10, (frame_width,frame_height))\n",
        "frame_number=0\n",
        "while(True):\n",
        "  ret, frame = cap.read()\n",
        "  frame_number = len(y_pred) if frame_number >= len(y_pred) else frame_number\n",
        "  if ret == True: \n",
        "    cv2.putText(frame,  \n",
        "                posses_dict[y_pred[frame_number]],  \n",
        "                (50, 50),  \n",
        "                cv2.FONT_HERSHEY_SIMPLEX, 1,  \n",
        "                (0, 255, 255),  \n",
        "                2,  \n",
        "                cv2.LINE_4) \n",
        "    # Write the frame into the file 'output.avi'\n",
        "    out.write(frame)\n",
        "    frame_number+=1\n",
        "    # Display the resulting frame    \n",
        "    #cv2.imshow('frame',frame)\n",
        "\n",
        "    # Press Q on keyboard to stop recording\n",
        "    if cv2.waitKey(1) & 0xFF == ord('q'):\n",
        "      break\n",
        "\n",
        "  # Break the loop\n",
        "  else:\n",
        "    break  \n",
        "\n",
        "# When everything done, release the video capture and video write objects\n",
        "cap.release()\n",
        "out.release()\n",
        "\n",
        "# Closes all the frames\n",
        "cv2.destroyAllWindows() \n",
        "\n",
        "#convert to mp4\n",
        "!ffmpeg -y -loglevel info -i /content/outpy.avi  /content/outpy.mp4\n",
        "\n",
        "show_local_mp4_video(\"/content/outpy.mp4\", width=640, height=480)"
      ],
      "execution_count": null,
      "outputs": []
    },
    {
      "cell_type": "markdown",
      "metadata": {
        "id": "pYe1qyvSQV2Y"
      },
      "source": [
        "# Training single LSTM on SBU dataset\n"
      ]
    },
    {
      "cell_type": "markdown",
      "metadata": {
        "id": "xF4WML1tQ7wB"
      },
      "source": [
        "## Imports"
      ]
    },
    {
      "cell_type": "code",
      "metadata": {
        "id": "CNLeB1_LRBEN"
      },
      "source": [
        "from keras.models import Sequential, Model\n",
        "from keras.layers import Dense, Dropout, LSTM, BatchNormalization, concatenate, Input\n",
        "from keras.optimizers import Adam\n",
        "from keras.callbacks import TensorBoard, ModelCheckpoint, EarlyStopping\n",
        "from keras.models import load_model\n",
        "from keras.utils import to_categorical\n",
        "from sklearn import preprocessing\n",
        "import random\n",
        "from collections import deque\n"
      ],
      "execution_count": null,
      "outputs": []
    },
    {
      "cell_type": "code",
      "metadata": {
        "id": "wqc7FDSBRSuw"
      },
      "source": [
        "full_data = pd.read_csv(r'./drive/MyDrive/OpenPose/full_data2.csv')\n",
        "\n",
        "\n",
        "\n",
        "\n"
      ],
      "execution_count": null,
      "outputs": []
    },
    {
      "cell_type": "code",
      "metadata": {
        "id": "reFRakR7j_9s"
      },
      "source": [
        "train_size = 0.7\n",
        "WINDOW_SIZE = 10 \n",
        "EPOCHS = 15  # how many passes through our data\n",
        "BATCH_SIZE = 16  # how many batches? Try smaller batch if you're getting OOM (out of memory) errors.\n",
        "NAME = f\"{WINDOW_SIZE}-SEQ-{int(time.time())}\"\n",
        "LIN_SIZE = 40"
      ],
      "execution_count": null,
      "outputs": []
    },
    {
      "cell_type": "code",
      "metadata": {
        "id": "-Eqb05AuvxAc"
      },
      "source": [
        "def preprocess_df(df, train_size, distance_type=\"25P\"):\n",
        "\n",
        "  time_step = df[[\"batch\"]]\n",
        "  x = full_data.drop([\"class\", \"batch\"],axis=1)\n",
        "  y = df[[\"class\"]]\n",
        "  \n",
        "  x_features_typeP = normalize(x , average_angles, average_norm, average_limbs, distance = distance_type)\n",
        "\n",
        "  for col in x_features_typeP.columns:\n",
        "    if col != \"batch\" and col != \"class\":\n",
        "      x_features_typeP.dropna(inplace=True)\n",
        "      x_features_typeP[col] = preprocessing.scale(x_features_typeP[col].values)\n",
        "\n",
        "  x_features_typeP = pd.concat([x_features_typeP, y, time_step], axis=1)\n",
        "  train_indices = random.sample(range(int(max(time_step.values))), int(max(time_step.values) * train_size))\n",
        "  full_data_train = x_features_typeP.loc[x_features_typeP['batch'].isin(train_indices)]\n",
        "  full_data_test = x_features_typeP.loc[~x_features_typeP['batch'].isin(train_indices)]\n",
        "  print(int(max(time_step.values) * train_size))\n",
        "\n",
        "  \n",
        "  x_train = full_data_train.drop([\"class\"],axis=1)\n",
        "  x_test = full_data_test.drop([\"class\"],axis=1)\n",
        "  y_train = full_data_train[[\"class\"]]\n",
        "  y_test = full_data_test[[\"class\"]]\n",
        "  \n",
        "  return x_train, x_test, y_train, y_test, train_indices\n"
      ],
      "execution_count": null,
      "outputs": []
    },
    {
      "cell_type": "code",
      "metadata": {
        "id": "KYgofEOSjzW3"
      },
      "source": [
        "def create_sequences(x, y):\n",
        "\n",
        "  df = pd.concat([x, y], axis=1)\n",
        "  sequential_data = []\n",
        "  prev_poses_data = deque(maxlen = WINDOW_SIZE)\n",
        "  current_batch = 0\n",
        "  #print (df)\n",
        "  for i in df.values:\n",
        "    prev_poses_data.append([n for n in i[:-2]])\n",
        "    if current_batch == (i[-2]):\n",
        "      if len(prev_poses_data) == WINDOW_SIZE:\n",
        "        sequential_data.append([np.array(prev_poses_data), i[-1]])\n",
        "    else:\n",
        "      current_batch = (i[-2])\n",
        "      prev_poses_data = deque(maxlen = WINDOW_SIZE)\n",
        "      \n",
        "      prev_poses_data.append([n for n in i[:-2]])\n",
        "\n",
        "  X = []\n",
        "  y = []\n",
        "\n",
        "  for seq, label in sequential_data:\n",
        "    X.append(seq)\n",
        "    y.append(label-1)\n",
        "  X = np.array(X)\n",
        "  y = np.array(y).reshape(X.shape[0],1)\n",
        "  return np.array(X), to_categorical(np.array(y))\n",
        "\n",
        "def create_spaced_sequences(x, y, size, batch_numbers):\n",
        "\n",
        "  df = pd.concat([x, y], axis=1)\n",
        "  X = []\n",
        "  y = []\n",
        "  for batch_nr in batch_numbers:\n",
        "    temp_df = df.loc[df[\"batch\"] == batch_nr]\n",
        "    if (len(temp_df)) == 0:\n",
        "      continue\n",
        "    idx = np.round(np.linspace(0, len(temp_df) - 1, size)).astype(int)\n",
        "    window = temp_df.iloc[idx, :-2]\n",
        "    label = temp_df.iloc[0, -1]\n",
        "    X.append(np.array(window))\n",
        "    y.append(label-1)\n",
        "\n",
        "  return np.array(X), to_categorical(np.array(y)) \n",
        "\n",
        "# summarize scores\n",
        "def summarize_results(scores):\n",
        "\tprint(scores)\n",
        "\tm, s = np.mean(scores), np.std(scores)\n",
        "\tprint('Accuracy: %.3f%% (+/-%.3f)' % (m, s))\n",
        "\n"
      ],
      "execution_count": null,
      "outputs": []
    },
    {
      "cell_type": "code",
      "metadata": {
        "id": "UBBXqhWDPqRx"
      },
      "source": [
        "def build_LSTM_model(X_train_seq, X_test_seq, y_train_seq, y_test_seq):\n",
        "  n_timesteps, n_features, n_outputs = X_train_seq.shape[1], X_train_seq.shape[2], y_train_seq.shape[1]\n",
        "\n",
        "  # model = Sequential()\n",
        "  # model.add(LSTM(128, input_shape=(n_timesteps,n_features), return_sequences=True))\n",
        "  # model.add(Dropout(0.2))\n",
        "  # model.add(BatchNormalization())\n",
        "\n",
        "  # model.add(LSTM(128, return_sequences=True))\n",
        "  # model.add(Dropout(0.1))\n",
        "  # model.add(BatchNormalization())\n",
        "\n",
        "  # model.add(LSTM(128))\n",
        "  # model.add(Dropout(0.2))\n",
        "  # model.add(BatchNormalization())\n",
        "\n",
        "  # model.add(Dense(32, activation='relu'))\n",
        "  # model.add(Dropout(0.2))\n",
        "\n",
        "  # model.add(Dense(n_outputs, activation='softmax'))\n",
        "\n",
        "  model = Sequential()\n",
        "  model.add(LSTM(100, input_shape=(n_timesteps,n_features), return_sequences=False))\n",
        "  model.add(Dropout(0.5))\n",
        "\n",
        "  model.add(Dense(100 , activation='relu'))\n",
        "\n",
        "  model.add(Dense(n_outputs, activation='softmax'))\n",
        "\n",
        "\n",
        "  opt = Adam(lr=0.001, decay=1e-6)\n",
        "\n",
        "  # Compile model\n",
        "  model.compile(\n",
        "      loss='categorical_crossentropy',\n",
        "      optimizer='adam',\n",
        "      metrics=['accuracy']\n",
        "  )\n",
        "\n",
        "  tensorboard = TensorBoard(log_dir=\"logs/{}\".format(NAME))\n",
        "\n",
        "  filepath = \"RNN_Final-{epoch:02d}-{val_acc:.3f}\"  # unique file name that will include the epoch and the validation acc for that epoch\n",
        "  checkpoint = ModelCheckpoint(\"models/{}.model\".format(filepath, monitor='val_acc', verbose=1, save_best_only=True, mode='max')) # saves only the best ones\n",
        "\n",
        "  history = model.fit(\n",
        "    X_train_seq, y_train_seq,\n",
        "    batch_size=BATCH_SIZE,\n",
        "    epochs=EPOCHS,\n",
        "    validation_data=(X_test_seq, y_test_seq),\n",
        "    #callbacks=[tensorboard, checkpoint],\n",
        "  )\n",
        "\n",
        "  return model\n",
        "\n",
        "  def evaluate_model(model, X_test_seq, y_test_seq):\n",
        "    score = model.evaluate(X_test_seq, y_test_seq, verbose=1)\n",
        "    return score[1]\n",
        "    \n"
      ],
      "execution_count": null,
      "outputs": []
    },
    {
      "cell_type": "code",
      "metadata": {
        "id": "OBZ9CyLdLHTT"
      },
      "source": [
        "\n",
        "scores = list()\n",
        "repeats = 15\n",
        "for r in range(repeats):\n",
        "  X_train, X_test, y_train, y_test, train_batches = preprocess_df(full_data, train_size=0.8)\n",
        "  all_batches = [n + 1 for n in range(full_data[\"batch\"].max())]\n",
        "  test_batches = [batch for batch in all_batches if batch not in train_batches]\n",
        "  print(all_batches)\n",
        "  # X_train_seq, y_train_seq = create_sequences(X_train, y_train)\n",
        "  # X_test_seq, y_test_seq = create_sequences(X_test, y_test)\n",
        "  X_train_seq, y_train_seq = create_spaced_sequences(X_train, y_train, LIN_SIZE, train_batches)\n",
        "  X_test_seq, y_test_seq = create_spaced_sequences(X_test, y_test, LIN_SIZE, test_batches)\n",
        "  model = build_LSTM_model(X_train_seq, X_test_seq, y_train_seq, y_test_seq)\n",
        "  _, score = model.evaluate(X_test_seq, y_test_seq, verbose=1)\n",
        "  print('>#%d: %.3f' % (r+1, score))\n",
        "  scores.append(score)\n",
        "# summarize results\n",
        "summarize_results(scores)\n"
      ],
      "execution_count": null,
      "outputs": []
    },
    {
      "cell_type": "code",
      "metadata": {
        "colab": {
          "base_uri": "https://localhost:8080/"
        },
        "id": "BTJF5_g2_sMi",
        "outputId": "6075c516-0d50-427a-9f84-df6136a78415"
      },
      "source": [
        "X_train, X_test, y_train, y_test, batch_numbers = preprocess_df(full_data, train_size=0.8)\n"
      ],
      "execution_count": null,
      "outputs": [
        {
          "output_type": "stream",
          "text": [
            "225\n"
          ],
          "name": "stdout"
        }
      ]
    },
    {
      "cell_type": "code",
      "metadata": {
        "id": "vExT0yJWLaJr"
      },
      "source": [
        "q,w = create_spaced_sequences(X_train, y_train, 15, batch_numbers)"
      ],
      "execution_count": null,
      "outputs": []
    },
    {
      "cell_type": "code",
      "metadata": {
        "colab": {
          "base_uri": "https://localhost:8080/"
        },
        "id": "LiKoVFboLtUA",
        "outputId": "d0e295bf-0478-489b-9f32-0fed38ffbda2"
      },
      "source": [
        "w.shape"
      ],
      "execution_count": null,
      "outputs": [
        {
          "output_type": "execute_result",
          "data": {
            "text/plain": [
              "(223, 8)"
            ]
          },
          "metadata": {
            "tags": []
          },
          "execution_count": 162
        }
      ]
    },
    {
      "cell_type": "code",
      "metadata": {
        "id": "TyR9rl0xJU_O",
        "colab": {
          "base_uri": "https://localhost:8080/"
        },
        "outputId": "fe16e27b-0a8e-4d4c-9bdc-d9ae1e1f1c2a"
      },
      "source": [
        "Name = \"LSTM_3\"\n",
        "model.save(f\"./drive/MyDrive/OpenPose/Saved_models/{Name}\")"
      ],
      "execution_count": null,
      "outputs": [
        {
          "output_type": "stream",
          "text": [
            "WARNING:absl:Found untraced functions such as lstm_cell_96_layer_call_and_return_conditional_losses, lstm_cell_96_layer_call_fn, lstm_cell_97_layer_call_and_return_conditional_losses, lstm_cell_97_layer_call_fn, lstm_cell_98_layer_call_and_return_conditional_losses while saving (showing 5 of 15). These functions will not be directly callable after loading.\n",
            "WARNING:absl:Found untraced functions such as lstm_cell_96_layer_call_and_return_conditional_losses, lstm_cell_96_layer_call_fn, lstm_cell_97_layer_call_and_return_conditional_losses, lstm_cell_97_layer_call_fn, lstm_cell_98_layer_call_and_return_conditional_losses while saving (showing 5 of 15). These functions will not be directly callable after loading.\n"
          ],
          "name": "stderr"
        },
        {
          "output_type": "stream",
          "text": [
            "INFO:tensorflow:Assets written to: ./drive/MyDrive/OpenPose/Saved_models/LSTM_3/assets\n"
          ],
          "name": "stdout"
        },
        {
          "output_type": "stream",
          "text": [
            "INFO:tensorflow:Assets written to: ./drive/MyDrive/OpenPose/Saved_models/LSTM_3/assets\n"
          ],
          "name": "stderr"
        }
      ]
    },
    {
      "cell_type": "code",
      "metadata": {
        "id": "R55zHdOfdO2i"
      },
      "source": [
        ""
      ],
      "execution_count": null,
      "outputs": []
    },
    {
      "cell_type": "markdown",
      "metadata": {
        "id": "uZDCPCwQkwdB"
      },
      "source": [
        "#Training double LSTM on SBU dataset"
      ]
    },
    {
      "cell_type": "code",
      "metadata": {
        "id": "AruHshue-bFK"
      },
      "source": [
        "train_size = 0.7\n",
        "WINDOW_SIZE = 10 \n",
        "EPOCHS = 15  # how many passes through our data\n",
        "BATCH_SIZE = 16  # how many batches? Try smaller batch if you're getting OOM (out of memory) errors.\n",
        "NAME = f\"{WINDOW_SIZE}-SEQ-{int(time.time())}\"\n",
        "LIN_SIZE = 40\n",
        "LABEL_OFFSET = 1"
      ],
      "execution_count": null,
      "outputs": []
    },
    {
      "cell_type": "code",
      "metadata": {
        "id": "YWFssBOBk0Th"
      },
      "source": [
        "\n",
        "def evaluate_model(model, X_test_seq, y_test_seq):\n",
        "  score = model.evaluate(X_test_seq, y_test_seq, verbose=1)\n",
        "  return score[1]\n",
        "  \n",
        "def preprocess_df(df, train_size, distance_type=\"25P\"):\n",
        "\n",
        "  time_step = df[[\"batch\"]]\n",
        "  x = full_data.drop([\"class\", \"batch\"],axis=1)\n",
        "  y = df[[\"class\"]]\n",
        "  \n",
        "  f_per1, f_per2, distance = normalize(x , average_angles, average_norm, average_limbs, feature_type = \"V\", distance = distance_type)\n",
        "\n",
        "  for col in f_per1.columns:\n",
        "    if col != \"batch\" and col != \"class\":\n",
        "      f_per1.dropna(inplace=True)\n",
        "      f_per1[col] = preprocessing.scale(f_per1[col].values)\n",
        "\n",
        "  for col in f_per2.columns:\n",
        "    if col != \"batch\" and col != \"class\":\n",
        "      f_per2.dropna(inplace=True)\n",
        "      f_per2[col] = preprocessing.scale(f_per2[col].values)\n",
        "\n",
        "  for col in distance.columns:\n",
        "    if col != \"batch\" and col != \"class\":\n",
        "      distance.dropna(inplace=True)\n",
        "      distance[col] = preprocessing.scale(distance[col].values)\n",
        "\n",
        "  f_per1 = pd.concat([f_per1, y, time_step], axis=1)\n",
        "  f_per2 = pd.concat([f_per2, y, time_step], axis=1)\n",
        "  distance = pd.concat([distance, y, time_step], axis=1)\n",
        "  train_indices = random.sample(range(int(max(time_step.values))), int(max(time_step.values) * train_size))\n",
        "  full_data_train_per1 = f_per1.loc[f_per1['batch'].isin(train_indices)]\n",
        "  full_data_train_per2 = f_per2.loc[f_per2['batch'].isin(train_indices)]\n",
        "  full_data_train_dist = distance.loc[distance['batch'].isin(train_indices)]\n",
        "  full_data_test_per1 = f_per1.loc[~f_per1['batch'].isin(train_indices)]\n",
        "  full_data_test_per2 = f_per2.loc[~f_per2['batch'].isin(train_indices)]\n",
        "  full_data_test_dist = distance.loc[~distance['batch'].isin(train_indices)]\n",
        "\n",
        "\n",
        "  x_train_per1 = full_data_train_per1.drop([\"class\"],axis=1)\n",
        "  x_train_per2 = full_data_train_per2.drop([\"class\"],axis=1)\n",
        "  x_train_dist = full_data_train_dist.drop([\"class\"],axis=1)\n",
        "  x_test_per1 = full_data_test_per1.drop([\"class\"],axis=1)\n",
        "  x_test_per2 = full_data_test_per2.drop([\"class\"],axis=1)\n",
        "  x_test_dist = full_data_test_dist.drop([\"class\"],axis=1)\n",
        "\n",
        "  y_train = full_data_train_per1[[\"class\"]]\n",
        "  y_test = full_data_test_per1[[\"class\"]]\n",
        "\n",
        "  return x_train_per1, x_train_per2, x_train_dist, x_test_per1, x_test_per2, x_test_dist, y_train, y_test, train_indices\n",
        "\n",
        "def create_spaced_sequences(x, y, dist, size, batch_numbers):\n",
        "\n",
        "  df = pd.concat([x, y], axis=1)\n",
        "  X = []\n",
        "  y = []\n",
        "  D = []\n",
        "  for batch_nr in batch_numbers:\n",
        "    temp_df = df.loc[df[\"batch\"] == batch_nr]\n",
        "    temp_dist = dist.loc[dist[\"batch\"] == batch_nr]\n",
        "    if (len(temp_df)) == 0 or (len(temp_dist)) == 0:\n",
        "      continue\n",
        "    idx = np.round(np.linspace(0, len(temp_df) - 1, size)).astype(int)\n",
        "    window = temp_df.iloc[idx, :-2]\n",
        "    label = temp_df.iloc[0, -1]\n",
        "    distance = temp_dist.iloc[idx, :-1]\n",
        "    X.append(np.array(window))\n",
        "    y.append(label - LABEL_OFFSET)\n",
        "    D.append(np.array(distance))\n",
        "\n",
        "  return np.array(X), to_categorical(np.array(y)), np.array(D) \n",
        "\n",
        "# summarize scores\n",
        "def summarize_results(scores):\n",
        "\tprint(scores)\n",
        "\tm, s = np.mean(scores), np.std(scores)\n",
        "\tprint('Accuracy: %.3f%% (+/-%.3f)' % (m, s))\n"
      ],
      "execution_count": null,
      "outputs": []
    },
    {
      "cell_type": "code",
      "metadata": {
        "id": "qWqTr4cx-X5g"
      },
      "source": [
        "def build_double_LSTM_model(X_train_seq_per1, X_train_seq_per2, X_train_dist, \n",
        "                            X_test_seq_per1, X_test_seq_per2, X_test_dist,\n",
        "                            y_train_seq, y_test_seq):\n",
        "  n_timesteps, n_features, n_outputs = X_train_seq_per1.shape[1], X_train_seq_per1.shape[2], y_train_seq.shape[1]\n",
        "\n",
        "\n",
        "  # model = Sequential()\n",
        "  # model.add(LSTM(128, input_shape=(n_timesteps,n_features), return_sequences=True))\n",
        "  # model.add(Dropout(0.2))\n",
        "  # model.add(BatchNormalization())\n",
        "\n",
        "  # model.add(LSTM(128, return_sequences=True))\n",
        "  # model.add(Dropout(0.1))\n",
        "  # model.add(BatchNormalization())\n",
        "\n",
        "  # model.add(LSTM(128))\n",
        "  # model.add(Dropout(0.2))\n",
        "  # model.add(BatchNormalization())\n",
        "\n",
        "  # model.add(Dense(32, activation='relu'))\n",
        "  # model.add(Dropout(0.2))\n",
        "\n",
        "  # model.add(Dense(n_outputs, activation='softmax'))\n",
        "\n",
        "\n",
        "  input1 = Input(shape = (n_timesteps,n_features), name = 'input_1')\n",
        "  lstm1 = LSTM(100, name = 'lstm1') (input1)\n",
        "  dropout1 = Dropout(0.5) (lstm1)\n",
        "\n",
        "  input2 = Input(shape = (n_timesteps,n_features), name = 'input_2')\n",
        "  lstm2 = LSTM(100, name = 'lstm2') (input2)\n",
        "  dropout2 = Dropout(0.5) (lstm2)\n",
        "\n",
        "  input3 = Input(shape = (X_train_dist.shape[1], X_train_dist.shape[2]), name = 'input_3')\n",
        "  lstm3 = LSTM(100, name = 'lstm3') (input3)\n",
        "  dropout3 = Dropout(0.5) (lstm3)\n",
        "\n",
        "  concat = concatenate([dropout1, dropout2, dropout3])\n",
        "\n",
        "  dense = Dense(100, activation= 'relu') (concat)\n",
        "  output = Dense(n_outputs, activation='softmax') (dense)\n",
        "\n",
        "  model = Model(inputs = [input1, input2, input3], outputs = output)\n",
        "  # Compile model\n",
        "  model.compile(\n",
        "      loss='categorical_crossentropy',\n",
        "      optimizer='adam',\n",
        "      metrics=['accuracy']\n",
        "  )\n",
        "\n",
        "  tensorboard = TensorBoard(log_dir=\"logs/{}\".format(NAME))\n",
        "\n",
        "  filepath = \"RNN_Final-{epoch:02d}-{val_acc:.3f}\"  # unique file name that will include the epoch and the validation acc for that epoch\n",
        "  checkpoint = ModelCheckpoint(\"models/{}.model\".format(filepath, monitor='val_acc', verbose=1, save_best_only=True, mode='max')) # saves only the best ones\n",
        "\n",
        "  history = model.fit(\n",
        "    [X_train_seq_per1, X_train_seq_per2, X_train_dist], y_train_seq,\n",
        "    batch_size=BATCH_SIZE,\n",
        "    epochs=EPOCHS,\n",
        "    validation_data=([X_test_seq_per1, X_test_seq_per2, X_test_dist], y_test_seq),\n",
        "    #callbacks=[tensorboard, checkpoint],\n",
        "  )\n",
        "\n",
        "  return model"
      ],
      "execution_count": null,
      "outputs": []
    },
    {
      "cell_type": "code",
      "metadata": {
        "id": "76T0_Ws3-WMy"
      },
      "source": [
        ""
      ],
      "execution_count": null,
      "outputs": []
    },
    {
      "cell_type": "code",
      "metadata": {
        "id": "I0FrW4E9mHlJ"
      },
      "source": [
        "full_data = pd.read_csv(r'./drive/MyDrive/OpenPose/full_data2.csv')\n",
        "\n"
      ],
      "execution_count": null,
      "outputs": []
    },
    {
      "cell_type": "code",
      "metadata": {
        "id": "OlYysxJV8xzd"
      },
      "source": [
        "\n",
        "def evaluate_model(model, X_test_seq, y_test_seq):\n",
        "  score = model.evaluate(X_test_seq, y_test_seq, verbose=1)\n",
        "  return score[1]\n",
        "  \n",
        "def preprocess_df(df, train_size, distance_type=\"25P\"):\n",
        "\n",
        "  time_step = df[[\"batch\"]]\n",
        "  x = full_data.drop([\"class\", \"batch\"],axis=1)\n",
        "  y = df[[\"class\"]]\n",
        "  \n",
        "  f_per1, f_per2, distance = normalize(x , average_angles, average_norm, average_limbs, feature_type = \"V\", distance = distance_type)\n",
        "\n",
        "  for col in f_per1.columns:\n",
        "    if col != \"batch\" and col != \"class\":\n",
        "      f_per1.dropna(inplace=True)\n",
        "      f_per1[col] = preprocessing.scale(f_per1[col].values)\n",
        "\n",
        "  for col in f_per2.columns:\n",
        "    if col != \"batch\" and col != \"class\":\n",
        "      f_per2.dropna(inplace=True)\n",
        "      f_per2[col] = preprocessing.scale(f_per2[col].values)\n",
        "\n",
        "  for col in distance.columns:\n",
        "    if col != \"batch\" and col != \"class\":\n",
        "      distance.dropna(inplace=True)\n",
        "      distance[col] = preprocessing.scale(distance[col].values)\n",
        "\n",
        "  f_per1 = pd.concat([f_per1, y, time_step], axis=1)\n",
        "  f_per2 = pd.concat([f_per2, y, time_step], axis=1)\n",
        "  distance = pd.concat([distance, y, time_step], axis=1)\n",
        "  train_indices = random.sample(range(int(max(time_step.values))), int(max(time_step.values) * train_size))\n",
        "  full_data_train_per1 = f_per1.loc[f_per1['batch'].isin(train_indices)]\n",
        "  full_data_train_per2 = f_per2.loc[f_per2['batch'].isin(train_indices)]\n",
        "  full_data_train_dist = distance.loc[distance['batch'].isin(train_indices)]\n",
        "  full_data_test_per1 = f_per1.loc[~f_per1['batch'].isin(train_indices)]\n",
        "  full_data_test_per2 = f_per2.loc[~f_per2['batch'].isin(train_indices)]\n",
        "  full_data_test_dist = distance.loc[~distance['batch'].isin(train_indices)]\n",
        "\n",
        "\n",
        "  x_train_per1 = full_data_train_per1.drop([\"class\"],axis=1)\n",
        "  x_train_per2 = full_data_train_per2.drop([\"class\"],axis=1)\n",
        "  x_train_dist = full_data_train_dist.drop([\"class\"],axis=1)\n",
        "  x_test_per1 = full_data_test_per1.drop([\"class\"],axis=1)\n",
        "  x_test_per2 = full_data_test_per2.drop([\"class\"],axis=1)\n",
        "  x_test_dist = full_data_test_dist.drop([\"class\"],axis=1)\n",
        "\n",
        "  y_train = full_data_train_per1[[\"class\"]]\n",
        "  y_test = full_data_test_per1[[\"class\"]]\n",
        "\n",
        "  return x_train_per1, x_train_per2, x_train_dist, x_test_per1, x_test_per2, x_test_dist, y_train, y_test, train_indices\n",
        "\n",
        "def create_spaced_sequences(x, y, dist, size, batch_numbers):\n",
        "\n",
        "  df = pd.concat([x, y], axis=1)\n",
        "  X = []\n",
        "  y = []\n",
        "  D = []\n",
        "  for batch_nr in batch_numbers:\n",
        "    temp_df = df.loc[df[\"batch\"] == batch_nr]\n",
        "    temp_dist = dist.loc[dist[\"batch\"] == batch_nr]\n",
        "    if (len(temp_df)) == 0 or (len(temp_dist)) == 0:\n",
        "      continue\n",
        "    idx = np.round(np.linspace(0, len(temp_df) - 1, size)).astype(int)\n",
        "    window = temp_df.iloc[idx, :-2]\n",
        "    label = temp_df.iloc[0, -1]\n",
        "    distance = temp_dist.iloc[idx, :-1]\n",
        "    X.append(np.array(window))\n",
        "    y.append(label-1)\n",
        "    D.append(np.array(distance))\n",
        "\n",
        "  return np.array(X), to_categorical(np.array(y)), np.array(D) \n",
        "\n",
        "# summarize scores\n",
        "def summarize_results(scores):\n",
        "\tprint(scores)\n",
        "\tm, s = np.mean(scores), np.std(scores)\n",
        "\tprint('Accuracy: %.3f%% (+/-%.3f)' % (m, s))\n",
        "\n"
      ],
      "execution_count": null,
      "outputs": []
    },
    {
      "cell_type": "code",
      "metadata": {
        "id": "Sxn3rNhyBCZ_"
      },
      "source": [
        "scores = list()\n",
        "repeats = 15\n",
        "for r in range(repeats):\n",
        "  x_train_per1, x_train_per2, x_train_dist, x_test_per1, x_test_per2, x_test_dist, y_train, y_test, train_indices = preprocess_df(full_data, 0.8)\n",
        "  X_train_seq_per1, y_train_seq, X_train_dist_seq = create_spaced_sequences(x_train_per1, y_train, x_train_dist, LIN_SIZE, train_indices)\n",
        "  X_train_seq_per2, _ , _ = create_spaced_sequences(x_train_per2, y_train, x_train_dist, LIN_SIZE, train_indices)\n",
        "  all_batches = [n + 1 for n in range(full_data[\"batch\"].max())]\n",
        "  test_indices = [batch for batch in all_batches if batch not in train_indices]\n",
        "  X_test_seq_per1, y_test_seq, X_test_dist_seq = create_spaced_sequences(x_test_per1, y_test, x_test_dist, LIN_SIZE, test_indices)\n",
        "  X_test_seq_per2, _ , _ = create_spaced_sequences(x_test_per2, y_test, x_test_dist, LIN_SIZE, test_indices)\n",
        "  model = build_double_LSTM_model(X_train_seq_per1, X_train_seq_per2, X_train_dist_seq, \n",
        "                            X_test_seq_per1, X_test_seq_per2, X_test_dist_seq,\n",
        "                            y_train_seq, y_test_seq)\n",
        "  _, score = model.evaluate([X_test_seq_per1, X_test_seq_per2, X_test_dist_seq], y_test_seq, verbose=1)\n",
        "  print('>#%d: %.3f' % (r+1, score))\n",
        "  scores.append(score)\n",
        "# summarize results\n",
        "summarize_results(scores)"
      ],
      "execution_count": null,
      "outputs": []
    },
    {
      "cell_type": "code",
      "metadata": {
        "colab": {
          "base_uri": "https://localhost:8080/"
        },
        "id": "HwCJsOL7RjEC",
        "outputId": "04610d54-b3b4-4d96-a8e7-f71824820724"
      },
      "source": [
        "\n",
        "_, score = model_double.evaluate([X_test_seq_per1, X_test_seq_per2, X_test_dist_seq], y_test_seq, verbose=1)\n",
        "print('>#%d: %.3f' % (r+1, score))"
      ],
      "execution_count": null,
      "outputs": [
        {
          "output_type": "stream",
          "text": [
            "Epoch 1/15\n",
            "14/14 [==============================] - 5s 85ms/step - loss: 2.0364 - accuracy: 0.1497 - val_loss: 1.6746 - val_accuracy: 0.3621\n",
            "Epoch 2/15\n",
            "14/14 [==============================] - 0s 16ms/step - loss: 1.5812 - accuracy: 0.4183 - val_loss: 1.4641 - val_accuracy: 0.4310\n",
            "Epoch 3/15\n",
            "14/14 [==============================] - 0s 16ms/step - loss: 1.3588 - accuracy: 0.5077 - val_loss: 1.2283 - val_accuracy: 0.6207\n",
            "Epoch 4/15\n",
            "14/14 [==============================] - 0s 15ms/step - loss: 1.0083 - accuracy: 0.7276 - val_loss: 0.9897 - val_accuracy: 0.7241\n",
            "Epoch 5/15\n",
            "14/14 [==============================] - 0s 15ms/step - loss: 0.7009 - accuracy: 0.8103 - val_loss: 0.7426 - val_accuracy: 0.7931\n",
            "Epoch 6/15\n",
            "14/14 [==============================] - 0s 15ms/step - loss: 0.4765 - accuracy: 0.8742 - val_loss: 0.6951 - val_accuracy: 0.8276\n",
            "Epoch 7/15\n",
            "14/14 [==============================] - 0s 15ms/step - loss: 0.2678 - accuracy: 0.9466 - val_loss: 0.5687 - val_accuracy: 0.8621\n",
            "Epoch 8/15\n",
            "14/14 [==============================] - 0s 15ms/step - loss: 0.2514 - accuracy: 0.9265 - val_loss: 0.5887 - val_accuracy: 0.8448\n",
            "Epoch 9/15\n",
            "14/14 [==============================] - 0s 14ms/step - loss: 0.1885 - accuracy: 0.9619 - val_loss: 0.5929 - val_accuracy: 0.7931\n",
            "Epoch 10/15\n",
            "14/14 [==============================] - 0s 15ms/step - loss: 0.0972 - accuracy: 0.9890 - val_loss: 0.5823 - val_accuracy: 0.8966\n",
            "Epoch 11/15\n",
            "14/14 [==============================] - 0s 15ms/step - loss: 0.0574 - accuracy: 0.9932 - val_loss: 0.5788 - val_accuracy: 0.8966\n",
            "Epoch 12/15\n",
            "14/14 [==============================] - 0s 15ms/step - loss: 0.0494 - accuracy: 1.0000 - val_loss: 0.5719 - val_accuracy: 0.8793\n",
            "Epoch 13/15\n",
            "14/14 [==============================] - 0s 15ms/step - loss: 0.0493 - accuracy: 0.9991 - val_loss: 0.5833 - val_accuracy: 0.8966\n",
            "Epoch 14/15\n",
            "14/14 [==============================] - 0s 15ms/step - loss: 0.0625 - accuracy: 0.9735 - val_loss: 0.6068 - val_accuracy: 0.8966\n",
            "Epoch 15/15\n",
            "14/14 [==============================] - 0s 15ms/step - loss: 0.0465 - accuracy: 0.9979 - val_loss: 0.5820 - val_accuracy: 0.8966\n",
            "2/2 [==============================] - 0s 9ms/step - loss: 0.5820 - accuracy: 0.8966\n",
            ">#1: 0.897\n"
          ],
          "name": "stdout"
        }
      ]
    },
    {
      "cell_type": "markdown",
      "metadata": {
        "id": "_7AQM9NeE_mW"
      },
      "source": [
        "# Training IRN"
      ]
    },
    {
      "cell_type": "code",
      "metadata": {
        "id": "ZNvH6LMTFDqW"
      },
      "source": [
        ""
      ],
      "execution_count": null,
      "outputs": []
    },
    {
      "cell_type": "markdown",
      "metadata": {
        "id": "X9wWapxEdPFq"
      },
      "source": [
        "# Testing LSTM on youtube video"
      ]
    },
    {
      "cell_type": "code",
      "metadata": {
        "id": "d1N0AnfrdTpS"
      },
      "source": [
        "from IPython.display import YouTubeVideo\n",
        "!pip install -q youtube-dl\n",
        "\n",
        "\n",
        "def show_local_mp4_video(file_name, width=640, height=480):\n",
        "  import io\n",
        "  import base64\n",
        "  from IPython.display import HTML\n",
        "  video_encoded = base64.b64encode(io.open(file_name, 'rb').read())\n",
        "  return HTML(data='''<video width=\"{0}\" height=\"{1}\" alt=\"test\" controls>\n",
        "                        <source src=\"data:video/mp4;base64,{2}\" type=\"video/mp4\" />\n",
        "                      </video>'''.format(width, height, video_encoded.decode('ascii')))\n",
        "\n",
        "def preprocess(df, distance_type=\"25P\"):\n",
        "\n",
        "  \n",
        "  x_features_typeP = normalize(df , average_angles, average_norm, average_limbs, distance = distance_type)\n",
        "\n",
        "  for col in x_features_typeP.columns:\n",
        "    if col != \"batch\" and col != \"class\":\n",
        "      x_features_typeP.dropna(inplace=True)\n",
        "      x_features_typeP[col] = preprocessing.scale(x_features_typeP[col].values)\n",
        "\n",
        "  \n",
        "  return x_features_typeP\n",
        "\n",
        "def create_sequence(df):\n",
        "\n",
        "  sequential_data = []\n",
        "  prev_poses_data = deque(maxlen = WINDOW_SIZE)\n",
        "  #print (df)\n",
        "  for i in df.values:\n",
        "    prev_poses_data.append(i)\n",
        "    if len(prev_poses_data) == WINDOW_SIZE:\n",
        "      sequential_data.append(np.array(prev_poses_data))\n",
        "\n",
        "  return np.array(sequential_data)\n",
        "\n",
        "def create_linspaced_window(df, size):\n",
        "  idx = np.round(np.linspace(0, len(df) - 1, size)).astype(int)\n",
        "  df = df.iloc[idx, :]\n",
        "  return np.array(df)\n",
        "\n",
        "  \n",
        "\n",
        "posses_dict= {1:\"close up\", 2:\"get away from each other\", 3:\"kick\",4:\"push\",\n",
        "             5:\"shake hands\",6:\"hug\",7:\"give a notebook\",8:\"punch\"}"
      ],
      "execution_count": null,
      "outputs": []
    },
    {
      "cell_type": "code",
      "metadata": {
        "colab": {
          "base_uri": "https://localhost:8080/",
          "height": 321
        },
        "id": "aTSA7XBhddQR",
        "outputId": "3ed6b52f-c9dc-4bd4-c605-85fc68048158"
      },
      "source": [
        "YOUTUBE_ID = 'fftNf-bDUY0' #hug\n",
        "#'rwPKVbFBa0I' #kick  00:0:21.0 -t 3\n",
        "#'fftNf-bDUY0' #hug\n",
        "YouTubeVideo(YOUTUBE_ID)"
      ],
      "execution_count": null,
      "outputs": [
        {
          "output_type": "execute_result",
          "data": {
            "text/html": [
              "\n",
              "        <iframe\n",
              "            width=\"400\"\n",
              "            height=\"300\"\n",
              "            src=\"https://www.youtube.com/embed/fftNf-bDUY0\"\n",
              "            frameborder=\"0\"\n",
              "            allowfullscreen\n",
              "        ></iframe>\n",
              "        "
            ],
            "text/plain": [
              "<IPython.lib.display.YouTubeVideo at 0x7f0b6e43d390>"
            ],
            "image/jpeg": "[encoded data removed]"
          },
          "metadata": {
            "tags": []
          },
          "execution_count": 143
        }
      ]
    },
    {
      "cell_type": "code",
      "metadata": {
        "id": "s9sCye5udoRW"
      },
      "source": [
        "!rm -rf youtube.mp4\n",
        "# download the youtube with the given ID\n",
        "!youtube-dl -f 'bestvideo[ext=mp4]' --output \"youtube.%(ext)s\" https://www.youtube.com/watch?v=$YOUTUBE_ID\n",
        "# cut the video\n",
        "!rm video.mp4\n",
        "!ffmpeg -y -loglevel info -i youtube.mp4 -ss 00:2:58.0 -t 5 video.mp4\n",
        "#resize to 640x480\n",
        "!rm resized.mp4\n",
        "!ffmpeg -i video.mp4 -s 640x480 -c:a copy resized.mp4\n",
        "show_local_mp4_video(\"resized.mp4\", width=640, height=480)"
      ],
      "execution_count": null,
      "outputs": []
    },
    {
      "cell_type": "code",
      "metadata": {
        "id": "9icZNwQIdrUv"
      },
      "source": [
        "#Using openpose\n",
        "!rm -r /content/drive/My\\ Drive/OpenPose/output \n",
        "!mkdir /content/drive/My\\ Drive/OpenPose/output\n",
        "!cd openpose && ./build/examples/openpose/openpose.bin --video ../resized.mp4 --write_json /content/drive/My\\ Drive/OpenPose/output --display 0 --write_video /content/drive/My\\ Drive/OpenPose/output/test.avi\n",
        "#convert to mp4\n",
        "!ffmpeg -y -loglevel info -i /content/drive/My\\ Drive/OpenPose/output/test.avi /content/drive/My\\ Drive/OpenPose/output/test.mp4\n",
        "show_local_mp4_video(\"/content/drive/MyDrive/OpenPose/output/test.mp4\", width=640, height=480)"
      ],
      "execution_count": null,
      "outputs": []
    },
    {
      "cell_type": "code",
      "metadata": {
        "id": "rlKdVLlkdvx4"
      },
      "source": [
        "#load json\n",
        "frame_data = pd.DataFrame()\n",
        "pattern = re.compile(\"resized_.*_keypoints\")\n",
        "for dirpath, dirnames, filenames in os.walk(\"./drive/MyDrive/OpenPose/output\", topdown=False):\n",
        "  for file in sorted(filenames):\n",
        "      if pattern.match(file):\n",
        "          file_path = dirpath +'/'+ file\n",
        "          with open(file_path) as f:\n",
        "            loaded_json_dict = json.load(f)\n",
        "          try:\n",
        "            data = loaded_json_dict['people'][0]['pose_keypoints_2d'] + loaded_json_dict['people'][1]['pose_keypoints_2d']\n",
        "            df = pd.DataFrame.transpose(pd.DataFrame.from_dict(data))\n",
        "            frame_data = pd.concat([frame_data,df],ignore_index=True)\n",
        "          except:\n",
        "            data = loaded_json_dict['people'][0]['pose_keypoints_2d'] + 75*[0]\n",
        "            df = pd.DataFrame.transpose(pd.DataFrame.from_dict(data))\n",
        "            frame_data = pd.concat([frame_data,df],ignore_index=True)"
      ],
      "execution_count": null,
      "outputs": []
    },
    {
      "cell_type": "code",
      "metadata": {
        "colab": {
          "base_uri": "https://localhost:8080/"
        },
        "id": "Qc2lxltWigiL",
        "outputId": "0bff7634-406d-46ef-fb3a-685488cc7050"
      },
      "source": [
        "x_features_typeP = preprocess(frame_data)\n",
        "X = create_linspaced_window(x_features_typeP, LIN_SIZE)\n",
        "X = X.reshape(1,LIN_SIZE,119)"
      ],
      "execution_count": null,
      "outputs": [
        {
          "output_type": "stream",
          "text": [
            "/usr/local/lib/python3.7/dist-packages/sklearn/preprocessing/_data.py:190: UserWarning: Numerical issues were encountered when scaling the data and might not be solved. The standard deviation of the data is probably very close to 0. \n",
            "  warnings.warn(\"Numerical issues were encountered \"\n",
            "/usr/local/lib/python3.7/dist-packages/sklearn/preprocessing/_data.py:190: UserWarning: Numerical issues were encountered when scaling the data and might not be solved. The standard deviation of the data is probably very close to 0. \n",
            "  warnings.warn(\"Numerical issues were encountered \"\n",
            "/usr/local/lib/python3.7/dist-packages/sklearn/preprocessing/_data.py:190: UserWarning: Numerical issues were encountered when scaling the data and might not be solved. The standard deviation of the data is probably very close to 0. \n",
            "  warnings.warn(\"Numerical issues were encountered \"\n",
            "/usr/local/lib/python3.7/dist-packages/sklearn/preprocessing/_data.py:190: UserWarning: Numerical issues were encountered when scaling the data and might not be solved. The standard deviation of the data is probably very close to 0. \n",
            "  warnings.warn(\"Numerical issues were encountered \"\n",
            "/usr/local/lib/python3.7/dist-packages/sklearn/preprocessing/_data.py:190: UserWarning: Numerical issues were encountered when scaling the data and might not be solved. The standard deviation of the data is probably very close to 0. \n",
            "  warnings.warn(\"Numerical issues were encountered \"\n",
            "/usr/local/lib/python3.7/dist-packages/sklearn/preprocessing/_data.py:190: UserWarning: Numerical issues were encountered when scaling the data and might not be solved. The standard deviation of the data is probably very close to 0. \n",
            "  warnings.warn(\"Numerical issues were encountered \"\n",
            "/usr/local/lib/python3.7/dist-packages/sklearn/preprocessing/_data.py:190: UserWarning: Numerical issues were encountered when scaling the data and might not be solved. The standard deviation of the data is probably very close to 0. \n",
            "  warnings.warn(\"Numerical issues were encountered \"\n",
            "/usr/local/lib/python3.7/dist-packages/sklearn/preprocessing/_data.py:190: UserWarning: Numerical issues were encountered when scaling the data and might not be solved. The standard deviation of the data is probably very close to 0. \n",
            "  warnings.warn(\"Numerical issues were encountered \"\n",
            "/usr/local/lib/python3.7/dist-packages/sklearn/preprocessing/_data.py:190: UserWarning: Numerical issues were encountered when scaling the data and might not be solved. The standard deviation of the data is probably very close to 0. \n",
            "  warnings.warn(\"Numerical issues were encountered \"\n",
            "/usr/local/lib/python3.7/dist-packages/sklearn/preprocessing/_data.py:190: UserWarning: Numerical issues were encountered when scaling the data and might not be solved. The standard deviation of the data is probably very close to 0. \n",
            "  warnings.warn(\"Numerical issues were encountered \"\n",
            "/usr/local/lib/python3.7/dist-packages/sklearn/preprocessing/_data.py:190: UserWarning: Numerical issues were encountered when scaling the data and might not be solved. The standard deviation of the data is probably very close to 0. \n",
            "  warnings.warn(\"Numerical issues were encountered \"\n",
            "/usr/local/lib/python3.7/dist-packages/sklearn/preprocessing/_data.py:190: UserWarning: Numerical issues were encountered when scaling the data and might not be solved. The standard deviation of the data is probably very close to 0. \n",
            "  warnings.warn(\"Numerical issues were encountered \"\n",
            "/usr/local/lib/python3.7/dist-packages/sklearn/preprocessing/_data.py:190: UserWarning: Numerical issues were encountered when scaling the data and might not be solved. The standard deviation of the data is probably very close to 0. \n",
            "  warnings.warn(\"Numerical issues were encountered \"\n",
            "/usr/local/lib/python3.7/dist-packages/sklearn/preprocessing/_data.py:190: UserWarning: Numerical issues were encountered when scaling the data and might not be solved. The standard deviation of the data is probably very close to 0. \n",
            "  warnings.warn(\"Numerical issues were encountered \"\n",
            "/usr/local/lib/python3.7/dist-packages/sklearn/preprocessing/_data.py:190: UserWarning: Numerical issues were encountered when scaling the data and might not be solved. The standard deviation of the data is probably very close to 0. \n",
            "  warnings.warn(\"Numerical issues were encountered \"\n",
            "/usr/local/lib/python3.7/dist-packages/sklearn/preprocessing/_data.py:190: UserWarning: Numerical issues were encountered when scaling the data and might not be solved. The standard deviation of the data is probably very close to 0. \n",
            "  warnings.warn(\"Numerical issues were encountered \"\n",
            "/usr/local/lib/python3.7/dist-packages/sklearn/preprocessing/_data.py:190: UserWarning: Numerical issues were encountered when scaling the data and might not be solved. The standard deviation of the data is probably very close to 0. \n",
            "  warnings.warn(\"Numerical issues were encountered \"\n",
            "/usr/local/lib/python3.7/dist-packages/sklearn/preprocessing/_data.py:190: UserWarning: Numerical issues were encountered when scaling the data and might not be solved. The standard deviation of the data is probably very close to 0. \n",
            "  warnings.warn(\"Numerical issues were encountered \"\n",
            "/usr/local/lib/python3.7/dist-packages/sklearn/preprocessing/_data.py:190: UserWarning: Numerical issues were encountered when scaling the data and might not be solved. The standard deviation of the data is probably very close to 0. \n",
            "  warnings.warn(\"Numerical issues were encountered \"\n",
            "/usr/local/lib/python3.7/dist-packages/sklearn/preprocessing/_data.py:190: UserWarning: Numerical issues were encountered when scaling the data and might not be solved. The standard deviation of the data is probably very close to 0. \n",
            "  warnings.warn(\"Numerical issues were encountered \"\n"
          ],
          "name": "stderr"
        }
      ]
    },
    {
      "cell_type": "code",
      "metadata": {
        "colab": {
          "base_uri": "https://localhost:8080/"
        },
        "id": "pw9gaUwwj-7l",
        "outputId": "e33ab916-0b0d-4908-eb9d-24bf0c216321"
      },
      "source": [
        "X.shape"
      ],
      "execution_count": null,
      "outputs": [
        {
          "output_type": "execute_result",
          "data": {
            "text/plain": [
              "(1, 80, 119)"
            ]
          },
          "metadata": {
            "tags": []
          },
          "execution_count": 148
        }
      ]
    },
    {
      "cell_type": "code",
      "metadata": {
        "colab": {
          "base_uri": "https://localhost:8080/",
          "height": 340
        },
        "id": "NSb18-oNehQw",
        "outputId": "789f724f-c1fe-42c7-c732-493bbf99d532"
      },
      "source": [
        "#load model \n",
        "Name = \"LSTM_3\"\n",
        "model = load_model(f\"./drive/MyDrive/OpenPose/Saved_models/{Name}\")"
      ],
      "execution_count": null,
      "outputs": [
        {
          "output_type": "error",
          "ename": "KeyboardInterrupt",
          "evalue": "ignored",
          "traceback": [
            "\u001b[0;31m---------------------------------------------------------------------------\u001b[0m",
            "\u001b[0;31mKeyboardInterrupt\u001b[0m                         Traceback (most recent call last)",
            "\u001b[0;32m<ipython-input-124-2c0036a483cb>\u001b[0m in \u001b[0;36m<module>\u001b[0;34m()\u001b[0m\n\u001b[1;32m      1\u001b[0m \u001b[0;31m#load model\u001b[0m\u001b[0;34m\u001b[0m\u001b[0;34m\u001b[0m\u001b[0;34m\u001b[0m\u001b[0m\n\u001b[1;32m      2\u001b[0m \u001b[0mName\u001b[0m \u001b[0;34m=\u001b[0m \u001b[0;34m\"LSTM_3\"\u001b[0m\u001b[0;34m\u001b[0m\u001b[0;34m\u001b[0m\u001b[0m\n\u001b[0;32m----> 3\u001b[0;31m \u001b[0mmodel\u001b[0m \u001b[0;34m=\u001b[0m \u001b[0mload_model\u001b[0m\u001b[0;34m(\u001b[0m\u001b[0;34mf\"./drive/MyDrive/OpenPose/Saved_models/{Name}\"\u001b[0m\u001b[0;34m)\u001b[0m\u001b[0;34m\u001b[0m\u001b[0;34m\u001b[0m\u001b[0m\n\u001b[0m",
            "\u001b[0;32m/usr/local/lib/python3.7/dist-packages/tensorflow/python/keras/saving/save.py\u001b[0m in \u001b[0;36mload_model\u001b[0;34m(filepath, custom_objects, compile, options)\u001b[0m\n\u001b[1;32m    210\u001b[0m       \u001b[0;32mif\u001b[0m \u001b[0misinstance\u001b[0m\u001b[0;34m(\u001b[0m\u001b[0mfilepath\u001b[0m\u001b[0;34m,\u001b[0m \u001b[0msix\u001b[0m\u001b[0;34m.\u001b[0m\u001b[0mstring_types\u001b[0m\u001b[0;34m)\u001b[0m\u001b[0;34m:\u001b[0m\u001b[0;34m\u001b[0m\u001b[0;34m\u001b[0m\u001b[0m\n\u001b[1;32m    211\u001b[0m         \u001b[0mloader_impl\u001b[0m\u001b[0;34m.\u001b[0m\u001b[0mparse_saved_model\u001b[0m\u001b[0;34m(\u001b[0m\u001b[0mfilepath\u001b[0m\u001b[0;34m)\u001b[0m\u001b[0;34m\u001b[0m\u001b[0;34m\u001b[0m\u001b[0m\n\u001b[0;32m--> 212\u001b[0;31m         \u001b[0;32mreturn\u001b[0m \u001b[0msaved_model_load\u001b[0m\u001b[0;34m.\u001b[0m\u001b[0mload\u001b[0m\u001b[0;34m(\u001b[0m\u001b[0mfilepath\u001b[0m\u001b[0;34m,\u001b[0m \u001b[0mcompile\u001b[0m\u001b[0;34m,\u001b[0m \u001b[0moptions\u001b[0m\u001b[0;34m)\u001b[0m\u001b[0;34m\u001b[0m\u001b[0;34m\u001b[0m\u001b[0m\n\u001b[0m\u001b[1;32m    213\u001b[0m \u001b[0;34m\u001b[0m\u001b[0m\n\u001b[1;32m    214\u001b[0m   raise IOError(\n",
            "\u001b[0;32m/usr/local/lib/python3.7/dist-packages/tensorflow/python/keras/saving/saved_model/load.py\u001b[0m in \u001b[0;36mload\u001b[0;34m(path, compile, options)\u001b[0m\n\u001b[1;32m    142\u001b[0m   \u001b[0;32mfor\u001b[0m \u001b[0mnode_id\u001b[0m\u001b[0;34m,\u001b[0m \u001b[0mloaded_node\u001b[0m \u001b[0;32min\u001b[0m \u001b[0mkeras_loader\u001b[0m\u001b[0;34m.\u001b[0m\u001b[0mloaded_nodes\u001b[0m\u001b[0;34m.\u001b[0m\u001b[0mitems\u001b[0m\u001b[0;34m(\u001b[0m\u001b[0;34m)\u001b[0m\u001b[0;34m:\u001b[0m\u001b[0;34m\u001b[0m\u001b[0;34m\u001b[0m\u001b[0m\n\u001b[1;32m    143\u001b[0m     \u001b[0mnodes_to_load\u001b[0m\u001b[0;34m[\u001b[0m\u001b[0mkeras_loader\u001b[0m\u001b[0;34m.\u001b[0m\u001b[0mget_path\u001b[0m\u001b[0;34m(\u001b[0m\u001b[0mnode_id\u001b[0m\u001b[0;34m)\u001b[0m\u001b[0;34m]\u001b[0m \u001b[0;34m=\u001b[0m \u001b[0mloaded_node\u001b[0m\u001b[0;34m\u001b[0m\u001b[0;34m\u001b[0m\u001b[0m\n\u001b[0;32m--> 144\u001b[0;31m   \u001b[0mloaded\u001b[0m \u001b[0;34m=\u001b[0m \u001b[0mtf_load\u001b[0m\u001b[0;34m.\u001b[0m\u001b[0mload_partial\u001b[0m\u001b[0;34m(\u001b[0m\u001b[0mpath\u001b[0m\u001b[0;34m,\u001b[0m \u001b[0mnodes_to_load\u001b[0m\u001b[0;34m,\u001b[0m \u001b[0moptions\u001b[0m\u001b[0;34m=\u001b[0m\u001b[0moptions\u001b[0m\u001b[0;34m)\u001b[0m\u001b[0;34m\u001b[0m\u001b[0;34m\u001b[0m\u001b[0m\n\u001b[0m\u001b[1;32m    145\u001b[0m \u001b[0;34m\u001b[0m\u001b[0m\n\u001b[1;32m    146\u001b[0m   \u001b[0;31m# Finalize the loaded layers and remove the extra tracked dependencies.\u001b[0m\u001b[0;34m\u001b[0m\u001b[0;34m\u001b[0m\u001b[0;34m\u001b[0m\u001b[0m\n",
            "\u001b[0;32m/usr/local/lib/python3.7/dist-packages/tensorflow/python/saved_model/load.py\u001b[0m in \u001b[0;36mload_partial\u001b[0;34m(export_dir, filters, tags, options)\u001b[0m\n\u001b[1;32m    763\u001b[0m     \u001b[0mA\u001b[0m \u001b[0mdictionary\u001b[0m \u001b[0mmapping\u001b[0m \u001b[0mnode\u001b[0m \u001b[0mpaths\u001b[0m \u001b[0;32mfrom\u001b[0m \u001b[0mthe\u001b[0m \u001b[0mfilter\u001b[0m \u001b[0mto\u001b[0m \u001b[0mloaded\u001b[0m \u001b[0mobjects\u001b[0m\u001b[0;34m.\u001b[0m\u001b[0;34m\u001b[0m\u001b[0;34m\u001b[0m\u001b[0m\n\u001b[1;32m    764\u001b[0m   \"\"\"\n\u001b[0;32m--> 765\u001b[0;31m   \u001b[0;32mreturn\u001b[0m \u001b[0mload_internal\u001b[0m\u001b[0;34m(\u001b[0m\u001b[0mexport_dir\u001b[0m\u001b[0;34m,\u001b[0m \u001b[0mtags\u001b[0m\u001b[0;34m,\u001b[0m \u001b[0moptions\u001b[0m\u001b[0;34m,\u001b[0m \u001b[0mfilters\u001b[0m\u001b[0;34m=\u001b[0m\u001b[0mfilters\u001b[0m\u001b[0;34m)\u001b[0m\u001b[0;34m\u001b[0m\u001b[0;34m\u001b[0m\u001b[0m\n\u001b[0m\u001b[1;32m    766\u001b[0m \u001b[0;34m\u001b[0m\u001b[0m\n\u001b[1;32m    767\u001b[0m \u001b[0;34m\u001b[0m\u001b[0m\n",
            "\u001b[0;32m/usr/local/lib/python3.7/dist-packages/tensorflow/python/saved_model/load.py\u001b[0m in \u001b[0;36mload_internal\u001b[0;34m(export_dir, tags, options, loader_cls, filters)\u001b[0m\n\u001b[1;32m    888\u001b[0m       \u001b[0;32mtry\u001b[0m\u001b[0;34m:\u001b[0m\u001b[0;34m\u001b[0m\u001b[0;34m\u001b[0m\u001b[0m\n\u001b[1;32m    889\u001b[0m         loader = loader_cls(object_graph_proto, saved_model_proto, export_dir,\n\u001b[0;32m--> 890\u001b[0;31m                             ckpt_options, filters)\n\u001b[0m\u001b[1;32m    891\u001b[0m       \u001b[0;32mexcept\u001b[0m \u001b[0merrors\u001b[0m\u001b[0;34m.\u001b[0m\u001b[0mNotFoundError\u001b[0m \u001b[0;32mas\u001b[0m \u001b[0merr\u001b[0m\u001b[0;34m:\u001b[0m\u001b[0;34m\u001b[0m\u001b[0;34m\u001b[0m\u001b[0m\n\u001b[1;32m    892\u001b[0m         raise FileNotFoundError(\n",
            "\u001b[0;32m/usr/local/lib/python3.7/dist-packages/tensorflow/python/saved_model/load.py\u001b[0m in \u001b[0;36m__init__\u001b[0;34m(self, object_graph_proto, saved_model_proto, export_dir, ckpt_options, filters)\u001b[0m\n\u001b[1;32m    130\u001b[0m     self._concrete_functions = (\n\u001b[1;32m    131\u001b[0m         function_deserialization.load_function_def_library(\n\u001b[0;32m--> 132\u001b[0;31m             meta_graph.graph_def.library))\n\u001b[0m\u001b[1;32m    133\u001b[0m     \u001b[0mself\u001b[0m\u001b[0;34m.\u001b[0m\u001b[0m_checkpoint_options\u001b[0m \u001b[0;34m=\u001b[0m \u001b[0mckpt_options\u001b[0m\u001b[0;34m\u001b[0m\u001b[0;34m\u001b[0m\u001b[0m\n\u001b[1;32m    134\u001b[0m \u001b[0;34m\u001b[0m\u001b[0m\n",
            "\u001b[0;32m/usr/local/lib/python3.7/dist-packages/tensorflow/python/saved_model/function_deserialization.py\u001b[0m in \u001b[0;36mload_function_def_library\u001b[0;34m(library, load_shared_name_suffix)\u001b[0m\n\u001b[1;32m    338\u001b[0m     \u001b[0;31m# import).\u001b[0m\u001b[0;34m\u001b[0m\u001b[0;34m\u001b[0m\u001b[0;34m\u001b[0m\u001b[0m\n\u001b[1;32m    339\u001b[0m     \u001b[0;32mwith\u001b[0m \u001b[0mgraph\u001b[0m\u001b[0;34m.\u001b[0m\u001b[0mas_default\u001b[0m\u001b[0;34m(\u001b[0m\u001b[0;34m)\u001b[0m\u001b[0;34m:\u001b[0m\u001b[0;34m\u001b[0m\u001b[0;34m\u001b[0m\u001b[0m\n\u001b[0;32m--> 340\u001b[0;31m       \u001b[0mfunc_graph\u001b[0m \u001b[0;34m=\u001b[0m \u001b[0mfunction_def_lib\u001b[0m\u001b[0;34m.\u001b[0m\u001b[0mfunction_def_to_graph\u001b[0m\u001b[0;34m(\u001b[0m\u001b[0mcopy\u001b[0m\u001b[0;34m)\u001b[0m\u001b[0;34m\u001b[0m\u001b[0;34m\u001b[0m\u001b[0m\n\u001b[0m\u001b[1;32m    341\u001b[0m     \u001b[0m_restore_gradient_functions\u001b[0m\u001b[0;34m(\u001b[0m\u001b[0mfunc_graph\u001b[0m\u001b[0;34m,\u001b[0m \u001b[0mrenamed_functions\u001b[0m\u001b[0;34m)\u001b[0m\u001b[0;34m\u001b[0m\u001b[0;34m\u001b[0m\u001b[0m\n\u001b[1;32m    342\u001b[0m \u001b[0;34m\u001b[0m\u001b[0m\n",
            "\u001b[0;32m/usr/local/lib/python3.7/dist-packages/tensorflow/python/framework/function_def_to_graph.py\u001b[0m in \u001b[0;36mfunction_def_to_graph\u001b[0;34m(fdef, input_shapes)\u001b[0m\n\u001b[1;32m     57\u001b[0m       \u001b[0minput_shapes\u001b[0m \u001b[0;34m=\u001b[0m \u001b[0minput_shapes_attr\u001b[0m\u001b[0;34m.\u001b[0m\u001b[0mlist\u001b[0m\u001b[0;34m.\u001b[0m\u001b[0mshape\u001b[0m\u001b[0;34m\u001b[0m\u001b[0;34m\u001b[0m\u001b[0m\n\u001b[1;32m     58\u001b[0m   graph_def, nested_to_flat_tensor_name = function_def_to_graph_def(\n\u001b[0;32m---> 59\u001b[0;31m       fdef, input_shapes)\n\u001b[0m\u001b[1;32m     60\u001b[0m \u001b[0;34m\u001b[0m\u001b[0m\n\u001b[1;32m     61\u001b[0m   \u001b[0;32mwith\u001b[0m \u001b[0mfunc_graph\u001b[0m\u001b[0;34m.\u001b[0m\u001b[0mas_default\u001b[0m\u001b[0;34m(\u001b[0m\u001b[0;34m)\u001b[0m\u001b[0;34m:\u001b[0m\u001b[0;34m\u001b[0m\u001b[0;34m\u001b[0m\u001b[0m\n",
            "\u001b[0;32m/usr/local/lib/python3.7/dist-packages/tensorflow/python/framework/function_def_to_graph.py\u001b[0m in \u001b[0;36mfunction_def_to_graph_def\u001b[0;34m(fdef, input_shapes)\u001b[0m\n\u001b[1;32m    240\u001b[0m         \u001b[0;31m# Map tensor names from \"node_name:output_arg_name:index\" to\u001b[0m\u001b[0;34m\u001b[0m\u001b[0;34m\u001b[0m\u001b[0;34m\u001b[0m\u001b[0m\n\u001b[1;32m    241\u001b[0m         \u001b[0;31m# \"node_name:flattened_index\".\u001b[0m\u001b[0;34m\u001b[0m\u001b[0;34m\u001b[0m\u001b[0;34m\u001b[0m\u001b[0m\n\u001b[0;32m--> 242\u001b[0;31m         \u001b[0mnested_name\u001b[0m \u001b[0;34m=\u001b[0m \u001b[0;34m\"{}:{}:{}\"\u001b[0m\u001b[0;34m.\u001b[0m\u001b[0mformat\u001b[0m\u001b[0;34m(\u001b[0m\u001b[0mnode_def\u001b[0m\u001b[0;34m.\u001b[0m\u001b[0mname\u001b[0m\u001b[0;34m,\u001b[0m \u001b[0marg_def\u001b[0m\u001b[0;34m.\u001b[0m\u001b[0mname\u001b[0m\u001b[0;34m,\u001b[0m \u001b[0mi\u001b[0m\u001b[0;34m)\u001b[0m\u001b[0;34m\u001b[0m\u001b[0;34m\u001b[0m\u001b[0m\n\u001b[0m\u001b[1;32m    243\u001b[0m         \u001b[0mflat_name\u001b[0m \u001b[0;34m=\u001b[0m \u001b[0;34m\"{}:{}\"\u001b[0m\u001b[0;34m.\u001b[0m\u001b[0mformat\u001b[0m\u001b[0;34m(\u001b[0m\u001b[0mnode_def\u001b[0m\u001b[0;34m.\u001b[0m\u001b[0mname\u001b[0m\u001b[0;34m,\u001b[0m \u001b[0mflattened_index\u001b[0m\u001b[0;34m)\u001b[0m\u001b[0;34m\u001b[0m\u001b[0;34m\u001b[0m\u001b[0m\n\u001b[1;32m    244\u001b[0m         \u001b[0mnested_to_flat_tensor_name\u001b[0m\u001b[0;34m[\u001b[0m\u001b[0mnested_name\u001b[0m\u001b[0;34m]\u001b[0m \u001b[0;34m=\u001b[0m \u001b[0mflat_name\u001b[0m\u001b[0;34m\u001b[0m\u001b[0;34m\u001b[0m\u001b[0m\n",
            "\u001b[0;31mKeyboardInterrupt\u001b[0m: "
          ]
        }
      ]
    },
    {
      "cell_type": "code",
      "metadata": {
        "id": "7yKMhgz_lrSO"
      },
      "source": [
        "a = model.predict(X)"
      ],
      "execution_count": null,
      "outputs": []
    },
    {
      "cell_type": "code",
      "metadata": {
        "colab": {
          "base_uri": "https://localhost:8080/"
        },
        "id": "6H8l0WcnlxzI",
        "outputId": "60ace216-8191-43b5-9c26-bc89fbbed31b"
      },
      "source": [
        "a"
      ],
      "execution_count": null,
      "outputs": [
        {
          "output_type": "execute_result",
          "data": {
            "text/plain": [
              "array([[9.2758709e-01, 8.8031348e-03, 7.0258707e-04, 1.1120386e-02,\n",
              "        5.3554378e-03, 4.1423526e-02, 4.3786221e-04, 4.5699626e-03]],\n",
              "      dtype=float32)"
            ]
          },
          "metadata": {
            "tags": []
          },
          "execution_count": 36
        }
      ]
    },
    {
      "cell_type": "code",
      "metadata": {
        "colab": {
          "base_uri": "https://localhost:8080/"
        },
        "id": "nbkdPVqNl_73",
        "outputId": "1af8d589-c0f0-4cbd-8eaa-3c81c6861be3"
      },
      "source": [
        "np.argmax(a, axis=1)"
      ],
      "execution_count": null,
      "outputs": [
        {
          "output_type": "execute_result",
          "data": {
            "text/plain": [
              "array([0])"
            ]
          },
          "metadata": {
            "tags": []
          },
          "execution_count": 37
        }
      ]
    },
    {
      "cell_type": "code",
      "metadata": {
        "colab": {
          "base_uri": "https://localhost:8080/"
        },
        "id": "52hu64FWmUJK",
        "outputId": "2ef9d0a2-6707-4785-83a0-9bc0d48b3917"
      },
      "source": [
        "spaced_frames.shape"
      ],
      "execution_count": null,
      "outputs": [
        {
          "output_type": "execute_result",
          "data": {
            "text/plain": [
              "(10, 10, 119)"
            ]
          },
          "metadata": {
            "tags": []
          },
          "execution_count": 134
        }
      ]
    },
    {
      "cell_type": "code",
      "metadata": {
        "colab": {
          "base_uri": "https://localhost:8080/",
          "height": 180
        },
        "id": "3_cBShFqmaT7",
        "outputId": "08f3fc3b-bd44-42a3-ae5e-3c5409c21895"
      },
      "source": [
        "while True:\n",
        "  pass"
      ],
      "execution_count": null,
      "outputs": [
        {
          "output_type": "error",
          "ename": "KeyboardInterrupt",
          "evalue": "ignored",
          "traceback": [
            "\u001b[0;31m---------------------------------------------------------------------------\u001b[0m",
            "\u001b[0;31mKeyboardInterrupt\u001b[0m                         Traceback (most recent call last)",
            "\u001b[0;32m<ipython-input-163-648a2bab0435>\u001b[0m in \u001b[0;36m<module>\u001b[0;34m()\u001b[0m\n\u001b[1;32m      1\u001b[0m \u001b[0;32mwhile\u001b[0m \u001b[0;32mTrue\u001b[0m\u001b[0;34m:\u001b[0m\u001b[0;34m\u001b[0m\u001b[0;34m\u001b[0m\u001b[0m\n\u001b[0;32m----> 2\u001b[0;31m   \u001b[0;32mpass\u001b[0m\u001b[0;34m\u001b[0m\u001b[0;34m\u001b[0m\u001b[0m\n\u001b[0m",
            "\u001b[0;31mKeyboardInterrupt\u001b[0m: "
          ]
        }
      ]
    },
    {
      "cell_type": "code",
      "metadata": {
        "id": "CLVNcYO70SZU"
      },
      "source": [
        ""
      ],
      "execution_count": null,
      "outputs": []
    }
  ]
}